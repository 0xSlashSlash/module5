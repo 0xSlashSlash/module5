{
 "cells": [
  {
   "cell_type": "markdown",
   "metadata": {},
   "source": [
    "# Financial Planning with APIs and Simulations\n",
    "\n",
    "In this Challenge, you’ll create two financial analysis tools by using a single Jupyter notebook:\n",
    "\n",
    "Part 1: A financial planner for emergencies. The members will be able to use this tool to visualize their current savings. The members can then determine if they have enough reserves for an emergency fund.\n",
    "\n",
    "Part 2: A financial planner for retirement. This tool will forecast the performance of their retirement portfolio in 30 years. To do this, the tool will make an Alpaca API call via the Alpaca SDK to get historical price data for use in Monte Carlo simulations.\n",
    "\n",
    "You’ll use the information from the Monte Carlo simulation to answer questions about the portfolio in your Jupyter notebook.\n",
    "\n"
   ]
  },
  {
   "cell_type": "code",
   "execution_count": 1,
   "metadata": {},
   "outputs": [],
   "source": [
    "# Import the required libraries and dependencies\n",
    "import os\n",
    "import requests\n",
    "import json\n",
    "import pandas as pd\n",
    "from dotenv import load_dotenv\n",
    "import alpaca_trade_api as tradeapi\n",
    "from MCForecastTools import MCSimulation\n",
    "\n",
    "%matplotlib inline"
   ]
  },
  {
   "cell_type": "code",
   "execution_count": 2,
   "metadata": {},
   "outputs": [
    {
     "data": {
      "text/plain": [
       "True"
      ]
     },
     "execution_count": 2,
     "metadata": {},
     "output_type": "execute_result"
    }
   ],
   "source": [
    "# Load the environment variables from the .env file\n",
    "#by calling the load_dotenv function\n",
    "load_dotenv()"
   ]
  },
  {
   "cell_type": "markdown",
   "metadata": {},
   "source": [
    "## Part 1: Create a Financial Planner for Emergencies"
   ]
  },
  {
   "cell_type": "markdown",
   "metadata": {},
   "source": [
    "### Evaluate the Cryptocurrency Wallet by Using the Requests Library\n",
    "\n",
    "In this section, you’ll determine the current value of a member’s cryptocurrency wallet. You’ll collect the current prices for the Bitcoin and Ethereum cryptocurrencies by using the Python Requests library. For the prototype, you’ll assume that the member holds the 1.2 Bitcoins (BTC) and 5.3 Ethereum coins (ETH). To do all this, complete the following steps:\n",
    "\n",
    "1. Create a variable named `monthly_income`, and set its value to `12000`.\n",
    "\n",
    "2. Use the Requests library to get the current price (in US dollars) of Bitcoin (BTC) and Ethereum (ETH) by using the API endpoints that the starter code supplies.\n",
    "\n",
    "3. Navigate the JSON response object to access the current price of each coin, and store each in a variable.\n",
    "\n",
    "    > **Hint** Note the specific identifier for each cryptocurrency in the API JSON response. The Bitcoin identifier is `1`, and the Ethereum identifier is `1027`.\n",
    "\n",
    "4. Calculate the value, in US dollars, of the current amount of each cryptocurrency and of the entire cryptocurrency wallet.\n",
    "\n"
   ]
  },
  {
   "cell_type": "code",
   "execution_count": 3,
   "metadata": {},
   "outputs": [],
   "source": [
    "# The current number of coins for each cryptocurrency asset held in the portfolio.\n",
    "btc_coins = 1.2\n",
    "eth_coins = 5.3"
   ]
  },
  {
   "cell_type": "markdown",
   "metadata": {},
   "source": [
    "#### Step 1: Create a variable named `monthly_income`, and set its value to `12000`."
   ]
  },
  {
   "cell_type": "code",
   "execution_count": 4,
   "metadata": {},
   "outputs": [],
   "source": [
    "# The monthly amount for the member's household income\n",
    "# YOUR CODE HERE\n",
    "monthly_income=12000"
   ]
  },
  {
   "cell_type": "markdown",
   "metadata": {},
   "source": [
    "#### Review the endpoint URLs for the API calls to Free Crypto API in order to get the current pricing information for both BTC and ETH."
   ]
  },
  {
   "cell_type": "code",
   "execution_count": 5,
   "metadata": {},
   "outputs": [],
   "source": [
    "# The Free Crypto API Call endpoint URLs for the held cryptocurrency assets\n",
    "btc_url = \"https://api.alternative.me/v2/ticker/Bitcoin/?convert=USD\"\n",
    "eth_url = \"https://api.alternative.me/v2/ticker/Ethereum/?convert=USD\""
   ]
  },
  {
   "cell_type": "markdown",
   "metadata": {},
   "source": [
    "#### Step 2. Use the Requests library to get the current price (in US dollars) of Bitcoin (BTC) and Ethereum (ETH) by using the API endpoints that the starter code supplied."
   ]
  },
  {
   "cell_type": "code",
   "execution_count": 6,
   "metadata": {},
   "outputs": [
    {
     "name": "stdout",
     "output_type": "stream",
     "text": [
      "{\n",
      "    \"data\": {\n",
      "        \"1\": {\n",
      "            \"circulating_supply\": 19136287,\n",
      "            \"id\": 1,\n",
      "            \"last_updated\": 1661837022,\n",
      "            \"max_supply\": 21000000,\n",
      "            \"name\": \"Bitcoin\",\n",
      "            \"quotes\": {\n",
      "                \"USD\": {\n",
      "                    \"market_cap\": 391297621681,\n",
      "                    \"percent_change_1h\": 0.0959325283410361,\n",
      "                    \"percent_change_24h\": 2.79312042132547,\n",
      "                    \"percent_change_7d\": -4.77567623704048,\n",
      "                    \"percentage_change_1h\": 0.0959325283410361,\n",
      "                    \"percentage_change_24h\": 2.79312042132547,\n",
      "                    \"percentage_change_7d\": -4.77567623704048,\n",
      "                    \"price\": 20366.0,\n",
      "                    \"volume_24h\": 29067607018\n",
      "                }\n",
      "            },\n",
      "            \"rank\": 1,\n",
      "            \"symbol\": \"BTC\",\n",
      "            \"total_supply\": 19136287,\n",
      "            \"website_slug\": \"bitcoin\"\n",
      "        }\n",
      "    },\n",
      "    \"metadata\": {\n",
      "        \"error\": null,\n",
      "        \"num_cryptocurrencies\": 3116,\n",
      "        \"timestamp\": 1661837022\n",
      "    }\n",
      "}\n"
     ]
    }
   ],
   "source": [
    "# Using the Python requests library, make an API call to access the current price of BTC\n",
    "# YOUR CODE HERE\n",
    "btc_response = requests.get(btc_url ).json()\n",
    "# Use the json.dumps function to review the response data from the API call\n",
    "# Use the indent and sort_keys parameters to make the response object readable\n",
    "# YOUR CODE HERE\n",
    "print(json.dumps(btc_response, indent=4, sort_keys=True))"
   ]
  },
  {
   "cell_type": "code",
   "execution_count": 7,
   "metadata": {},
   "outputs": [
    {
     "name": "stdout",
     "output_type": "stream",
     "text": [
      "{\n",
      "    \"data\": {\n",
      "        \"1027\": {\n",
      "            \"circulating_supply\": 120308926,\n",
      "            \"id\": 1027,\n",
      "            \"last_updated\": 1661837058,\n",
      "            \"max_supply\": 120308697,\n",
      "            \"name\": \"Ethereum\",\n",
      "            \"quotes\": {\n",
      "                \"USD\": {\n",
      "                    \"market_cap\": 190543089085,\n",
      "                    \"percent_change_1h\": 0.940666135957577,\n",
      "                    \"percent_change_24h\": 8.93867118805297,\n",
      "                    \"percent_change_7d\": -2.65426258839471,\n",
      "                    \"percentage_change_1h\": 0.940666135957577,\n",
      "                    \"percentage_change_24h\": 8.93867118805297,\n",
      "                    \"percentage_change_7d\": -2.65426258839471,\n",
      "                    \"price\": 1579.25,\n",
      "                    \"volume_24h\": 16471177913\n",
      "                }\n",
      "            },\n",
      "            \"rank\": 2,\n",
      "            \"symbol\": \"ETH\",\n",
      "            \"total_supply\": 120308926,\n",
      "            \"website_slug\": \"ethereum\"\n",
      "        }\n",
      "    },\n",
      "    \"metadata\": {\n",
      "        \"error\": null,\n",
      "        \"num_cryptocurrencies\": 3116,\n",
      "        \"timestamp\": 1661837058\n",
      "    }\n",
      "}\n"
     ]
    }
   ],
   "source": [
    "# Using the Python requests library, make an API call to access the current price ETH\n",
    "# YOUR CODE HERE\n",
    "eth_response = requests.get(eth_url ).json()\n",
    "# Use the json.dumps function to review the response data from the API call\n",
    "# Use the indent and sort_keys parameters to make the response object readable\n",
    "# YOUR CODE HERE\n",
    "print(json.dumps(eth_response, indent=4, sort_keys=True))"
   ]
  },
  {
   "cell_type": "markdown",
   "metadata": {},
   "source": [
    "#### Step 3: Navigate the JSON response object to access the current price of each coin, and store each in a variable."
   ]
  },
  {
   "cell_type": "code",
   "execution_count": 8,
   "metadata": {},
   "outputs": [
    {
     "name": "stdout",
     "output_type": "stream",
     "text": [
      "The current price of Bitcoin is $20366.0\n"
     ]
    }
   ],
   "source": [
    "# Navigate the BTC response object to access the current price of BTC\n",
    "# YOUR CODE HERE\n",
    "btc_price=btc_response['data']['1']['quotes']['USD']['price']\n",
    "# Print the current price of BTC\n",
    "# YOUR CODE HERE\n",
    "print(f\"The current price of Bitcoin is ${btc_price}\")"
   ]
  },
  {
   "cell_type": "code",
   "execution_count": 9,
   "metadata": {},
   "outputs": [
    {
     "name": "stdout",
     "output_type": "stream",
     "text": [
      "The current price of Etherium is $1579.25\n"
     ]
    }
   ],
   "source": [
    "# Navigate the BTC response object to access the current price of ETH\n",
    "# YOUR CODE HERE\n",
    "eth_price=eth_response['data']['1027']['quotes']['USD']['price']\n",
    "# Print the current price of ETH\n",
    "# YOUR CODE HERE\n",
    "print(f\"The current price of Etherium is ${eth_price}\")"
   ]
  },
  {
   "cell_type": "markdown",
   "metadata": {},
   "source": [
    "### Step 4: Calculate the value, in US dollars, of the current amount of each cryptocurrency and of the entire cryptocurrency wallet."
   ]
  },
  {
   "cell_type": "code",
   "execution_count": 10,
   "metadata": {},
   "outputs": [
    {
     "name": "stdout",
     "output_type": "stream",
     "text": [
      "The total value of Bitcoin held in the portfolio is 24439.2\n"
     ]
    }
   ],
   "source": [
    "# Compute the current value of the BTC holding \n",
    "# YOUR CODE HERE\n",
    "btc_value = btc_coins * btc_price\n",
    "# Print current value of your holding in BTC\n",
    "# YOUR CODE HERE\n",
    "print(f\"The total value of Bitcoin held in the portfolio is {btc_value}\")"
   ]
  },
  {
   "cell_type": "code",
   "execution_count": 11,
   "metadata": {},
   "outputs": [
    {
     "name": "stdout",
     "output_type": "stream",
     "text": [
      "The total value of Ethereum held in the portfolio is 8370.025\n"
     ]
    }
   ],
   "source": [
    "# Compute the current value of the ETH holding \n",
    "# YOUR CODE HERE\n",
    "eth_value = eth_coins * eth_price\n",
    "# Print current value of your holding in ETH\n",
    "# YOUR CODE HERE\n",
    "print(f\"The total value of Ethereum held in the portfolio is {eth_value}\")"
   ]
  },
  {
   "cell_type": "code",
   "execution_count": 12,
   "metadata": {},
   "outputs": [
    {
     "name": "stdout",
     "output_type": "stream",
     "text": [
      "Current cryptocurrency wallet balance = 32809.225\n"
     ]
    }
   ],
   "source": [
    "# Compute the total value of the cryptocurrency wallet\n",
    "# Add the value of the BTC holding to the value of the ETH holding\n",
    "# YOUR CODE HERE\n",
    "total_crypto_wallet = btc_value + eth_value\n",
    "# Print current cryptocurrency wallet balance\n",
    "# YOUR CODE HERE\n",
    "print(f\"Current cryptocurrency wallet balance = {total_crypto_wallet}\")"
   ]
  },
  {
   "cell_type": "markdown",
   "metadata": {},
   "source": [
    "### Evaluate the Stock and Bond Holdings by Using the Alpaca SDK\n",
    "\n",
    "In this section, you’ll determine the current value of a member’s stock and bond holdings. You’ll make an API call to Alpaca via the Alpaca SDK to get the current closing prices of the SPDR S&P 500 ETF Trust (ticker: SPY) and of the iShares Core US Aggregate Bond ETF (ticker: AGG). For the prototype, assume that the member holds 110 shares of SPY, which represents the stock portion of their portfolio, and 200 shares of AGG, which represents the bond portion. To do all this, complete the following steps:\n",
    "\n",
    "1. In the `Starter_Code` folder, create an environment file (`.env`) to store the values of your Alpaca API key and Alpaca secret key.\n",
    "\n",
    "2. Set the variables for the Alpaca API and secret keys. Using the Alpaca SDK, create the Alpaca `tradeapi.REST` object. In this object, include the parameters for the Alpaca API key, the secret key, and the version number.\n",
    "\n",
    "3. Set the following parameters for the Alpaca API call:\n",
    "\n",
    "    - `tickers`: Use the tickers for the member’s stock and bond holdings.\n",
    "\n",
    "    - `timeframe`: Use a time frame of one day.\n",
    "\n",
    "    - `start_date` and `end_date`: Use the same date for these parameters, and format them with the date of the previous weekday (or `2020-08-07`). This is because you want the one closing price for the most-recent trading day.\n",
    "\n",
    "4. Get the current closing prices for `SPY` and `AGG` by using the Alpaca `get_bars` function. Format the response as a Pandas DataFrame by including the `df` property at the end of the `get_bars` function.\n",
    "\n",
    "5. Navigating the Alpaca response DataFrame, select the `SPY` and `AGG` closing prices, and store them as variables.\n",
    "\n",
    "6. Calculate the value, in US dollars, of the current amount of shares in each of the stock and bond portions of the portfolio, and print the results.\n"
   ]
  },
  {
   "cell_type": "markdown",
   "metadata": {},
   "source": [
    "#### Review the total number of shares held in both (SPY) and (AGG)."
   ]
  },
  {
   "cell_type": "code",
   "execution_count": 13,
   "metadata": {},
   "outputs": [],
   "source": [
    "# Current amount of shares held in both the stock (SPY) and bond (AGG) portion of the portfolio.\n",
    "spy_shares = 110\n",
    "agg_shares = 200\n"
   ]
  },
  {
   "cell_type": "markdown",
   "metadata": {},
   "source": [
    "#### Step 1: In the `Starter_Code` folder, create an environment file (`.env`) to store the values of your Alpaca API key and Alpaca secret key."
   ]
  },
  {
   "cell_type": "markdown",
   "metadata": {},
   "source": [
    "#### Step 2: Set the variables for the Alpaca API and secret keys. Using the Alpaca SDK, create the Alpaca `tradeapi.REST` object. In this object, include the parameters for the Alpaca API key, the secret key, and the version number."
   ]
  },
  {
   "cell_type": "code",
   "execution_count": 14,
   "metadata": {},
   "outputs": [],
   "source": [
    "# Set the variables for the Alpaca API and secret keys\n",
    "# YOUR CODE HERE\n",
    "# YOUR CODE HERE\n",
    "alpaca_api_key = os.getenv(\"ALPACA_API_KEY\")\n",
    "alpaca_secret_key = os.getenv(\"ALPACA_SECRET_KEY\")\n",
    "# Create the Alpaca tradeapi.REST object\n",
    "# YOUR CODE HERE\n",
    "alpaca = tradeapi.REST(\n",
    "    key_id=alpaca_api_key,\n",
    "    secret_key=alpaca_secret_key,\n",
    "    api_version=\"v2\")"
   ]
  },
  {
   "cell_type": "markdown",
   "metadata": {},
   "source": [
    "#### Step 3: Set the following parameters for the Alpaca API call:\n",
    "\n",
    "- `tickers`: Use the tickers for the member’s stock and bond holdings.\n",
    "\n",
    "- `timeframe`: Use a time frame of one day.\n",
    "\n",
    "- `start_date` and `end_date`: Use the same date for these parameters, and format them with the date of the previous weekday (or `2020-08-07`). This is because you want the one closing price for the most-recent trading day.\n"
   ]
  },
  {
   "cell_type": "code",
   "execution_count": 15,
   "metadata": {},
   "outputs": [],
   "source": [
    "# Set the tickers for both the bond and stock portion of the portfolio\n",
    "# YOUR CODE HERE\n",
    "tickers = [\"SPY\", \"AGG\"]\n",
    "# Set timeframe to 1Day\n",
    "# YOUR CODE HERE\n",
    "timeframe = \"1D\"\n",
    "# Format current date as ISO format\n",
    "# Set both the start and end date at the date of your prior weekday \n",
    "# This will give you the closing price of the previous trading day\n",
    "# Alternatively you can use a start and end date of 2020-08-07\n",
    "# YOUR CODE HERE\n",
    "# YOUR CODE HERE\n",
    "start_date = pd.Timestamp(\"2020-08-07\", tz=\"America/New_York\").isoformat()\n",
    "end_date = pd.Timestamp(\"2020-08-07\", tz=\"America/New_York\").isoformat()"
   ]
  },
  {
   "cell_type": "markdown",
   "metadata": {},
   "source": [
    "#### Step 4: Get the current closing prices for `SPY` and `AGG` by using the Alpaca `get_bars` function. Format the response as a Pandas DataFrame by including the `df` property at the end of the `get_bars` function."
   ]
  },
  {
   "cell_type": "code",
   "execution_count": 20,
   "metadata": {},
   "outputs": [
    {
     "data": {
      "text/html": [
       "<div>\n",
       "<style scoped>\n",
       "    .dataframe tbody tr th:only-of-type {\n",
       "        vertical-align: middle;\n",
       "    }\n",
       "\n",
       "    .dataframe tbody tr th {\n",
       "        vertical-align: top;\n",
       "    }\n",
       "\n",
       "    .dataframe thead tr th {\n",
       "        text-align: left;\n",
       "    }\n",
       "\n",
       "    .dataframe thead tr:last-of-type th {\n",
       "        text-align: right;\n",
       "    }\n",
       "</style>\n",
       "<table border=\"1\" class=\"dataframe\">\n",
       "  <thead>\n",
       "    <tr>\n",
       "      <th></th>\n",
       "      <th colspan=\"7\" halign=\"left\">SPY</th>\n",
       "      <th colspan=\"7\" halign=\"left\">AGG</th>\n",
       "    </tr>\n",
       "    <tr>\n",
       "      <th></th>\n",
       "      <th>open</th>\n",
       "      <th>high</th>\n",
       "      <th>low</th>\n",
       "      <th>close</th>\n",
       "      <th>volume</th>\n",
       "      <th>trade_count</th>\n",
       "      <th>vwap</th>\n",
       "      <th>open</th>\n",
       "      <th>high</th>\n",
       "      <th>low</th>\n",
       "      <th>close</th>\n",
       "      <th>volume</th>\n",
       "      <th>trade_count</th>\n",
       "      <th>vwap</th>\n",
       "    </tr>\n",
       "    <tr>\n",
       "      <th>timestamp</th>\n",
       "      <th></th>\n",
       "      <th></th>\n",
       "      <th></th>\n",
       "      <th></th>\n",
       "      <th></th>\n",
       "      <th></th>\n",
       "      <th></th>\n",
       "      <th></th>\n",
       "      <th></th>\n",
       "      <th></th>\n",
       "      <th></th>\n",
       "      <th></th>\n",
       "      <th></th>\n",
       "      <th></th>\n",
       "    </tr>\n",
       "  </thead>\n",
       "  <tbody>\n",
       "    <tr>\n",
       "      <th>2020-08-07 04:00:00+00:00</th>\n",
       "      <td>333.29</td>\n",
       "      <td>334.88</td>\n",
       "      <td>332.3</td>\n",
       "      <td>334.57</td>\n",
       "      <td>57282821</td>\n",
       "      <td>350100</td>\n",
       "      <td>333.800372</td>\n",
       "      <td>119.66</td>\n",
       "      <td>119.73</td>\n",
       "      <td>119.395</td>\n",
       "      <td>119.43</td>\n",
       "      <td>5559066</td>\n",
       "      <td>15246</td>\n",
       "      <td>119.475306</td>\n",
       "    </tr>\n",
       "  </tbody>\n",
       "</table>\n",
       "</div>"
      ],
      "text/plain": [
       "                              SPY                                   \\\n",
       "                             open    high    low   close    volume   \n",
       "timestamp                                                            \n",
       "2020-08-07 04:00:00+00:00  333.29  334.88  332.3  334.57  57282821   \n",
       "\n",
       "                                                      AGG                   \\\n",
       "                          trade_count        vwap    open    high      low   \n",
       "timestamp                                                                    \n",
       "2020-08-07 04:00:00+00:00      350100  333.800372  119.66  119.73  119.395   \n",
       "\n",
       "                                                                    \n",
       "                            close   volume trade_count        vwap  \n",
       "timestamp                                                           \n",
       "2020-08-07 04:00:00+00:00  119.43  5559066       15246  119.475306  "
      ]
     },
     "execution_count": 20,
     "metadata": {},
     "output_type": "execute_result"
    }
   ],
   "source": [
    "# Use the Alpaca get_bars function to get current closing prices the portfolio\n",
    "# Be sure to set the `df` property after the function to format the response object as a DataFrame\n",
    "# YOUR CODE HERE\n",
    "prices_df = alpaca.get_bars(\n",
    "    tickers,\n",
    "    timeframe,\n",
    "    start = start_date,\n",
    "    end = end_date,\n",
    ").df\n",
    "# Reorganize the DataFrame\n",
    "# Separate ticker data\n",
    "# YOUR CODE HERE\n",
    "spy = prices_df[prices_df['symbol']=='SPY'].drop('symbol',axis=1)\n",
    "agg = prices_df[prices_df['symbol']=='AGG'].drop('symbol',axis=1)\n",
    "# Concatenate the ticker DataFrames\n",
    "# YOUR CODE HERE\n",
    "prices_df = pd.concat([spy,agg],axis=1, keys=['SPY','AGG'])\n",
    "\n",
    "# Review the first 5 rows of the Alpaca DataFrame\n",
    "# YOUR CODE HERE\n",
    "prices_df.head()\n"
   ]
  },
  {
   "cell_type": "markdown",
   "metadata": {},
   "source": [
    "#### Step 5: Navigating the Alpaca response DataFrame, select the `SPY` and `AGG` closing prices, and store them as variables."
   ]
  },
  {
   "cell_type": "code",
   "execution_count": 21,
   "metadata": {},
   "outputs": [
    {
     "name": "stdout",
     "output_type": "stream",
     "text": [
      "The closing price of AGG is $119.43\n"
     ]
    }
   ],
   "source": [
    "# Access the closing price for AGG from the Alpaca DataFrame\n",
    "# Converting the value to a floating point number\n",
    "# YOUR CODE HERE\n",
    "agg_close_price = prices_df['AGG']['close'][0]\n",
    "# Print the AGG closing price\n",
    "# YOUR CODE HERE\n",
    "print(f'The closing price of AGG is ${agg_close_price}')"
   ]
  },
  {
   "cell_type": "code",
   "execution_count": 23,
   "metadata": {},
   "outputs": [
    {
     "name": "stdout",
     "output_type": "stream",
     "text": [
      "The closing price of SPY is $ 334.57\n"
     ]
    }
   ],
   "source": [
    "# Access the closing price for SPY from the Alpaca DataFrame\n",
    "# Converting the value to a floating point number\n",
    "# YOUR CODE HERE\n",
    "spy_close_price = prices_df['SPY']['close'][0]\n",
    "# Print the SPY closing price\n",
    "# YOUR CODE HERE\n",
    "print(f'The closing price of SPY is ${spy_close_price: .2f}')"
   ]
  },
  {
   "cell_type": "markdown",
   "metadata": {},
   "source": [
    "#### Step 6: Calculate the value, in US dollars, of the current amount of shares in each of the stock and bond portions of the portfolio, and print the results."
   ]
  },
  {
   "cell_type": "code",
   "execution_count": 25,
   "metadata": {},
   "outputs": [
    {
     "name": "stdout",
     "output_type": "stream",
     "text": [
      "The current value of AGG in the portfolio is $ 23886.00\n"
     ]
    }
   ],
   "source": [
    "# Calculate the current value of the bond portion of the portfolio\n",
    "# YOUR CODE HERE\n",
    "agg_value = agg_close_price * agg_shares\n",
    "# Print the current value of the bond portfolio\n",
    "# YOUR CODE HERE\n",
    "print(f'The current value of AGG in the portfolio is ${agg_value: .2f}')"
   ]
  },
  {
   "cell_type": "code",
   "execution_count": 26,
   "metadata": {},
   "outputs": [
    {
     "name": "stdout",
     "output_type": "stream",
     "text": [
      "The current value of SPY in the portfolio is $ 36802.70\n"
     ]
    }
   ],
   "source": [
    "# Calculate the current value of the stock portion of the portfolio\n",
    "# YOUR CODE HERE\n",
    "spy_value = spy_close_price * spy_shares\n",
    "# Print the current value of the stock portfolio\n",
    "# YOUR CODE HERE\n",
    "print(f'The current value of SPY in the portfolio is ${spy_value: .2f}')"
   ]
  },
  {
   "cell_type": "code",
   "execution_count": 27,
   "metadata": {},
   "outputs": [
    {
     "name": "stdout",
     "output_type": "stream",
     "text": [
      "The current total value of stocks and bonds in the portfolio is $ 60688.70\n"
     ]
    }
   ],
   "source": [
    "# Calculate the total value of the stock and bond portion of the portfolio\n",
    "# YOUR CODE HERE\n",
    "total_stocks_bonds = spy_value + agg_value\n",
    "# Print the current balance of the stock and bond portion of the portfolio\n",
    "# YOUR CODE HERE\n",
    "print(f'The current total value of stocks and bonds in the portfolio is ${total_stocks_bonds: .2f}')"
   ]
  },
  {
   "cell_type": "code",
   "execution_count": 28,
   "metadata": {},
   "outputs": [
    {
     "name": "stdout",
     "output_type": "stream",
     "text": [
      "The current total value of stocks, bonds, and cryptos in the portfolio is $ 93497.92\n"
     ]
    }
   ],
   "source": [
    "# Calculate the total value of the member's entire savings portfolio\n",
    "# Add the value of the cryptocurrency walled to the value of the total stocks and bonds\n",
    "total_portfolio = total_stocks_bonds + total_crypto_wallet\n",
    "# Print current cryptocurrency wallet balance\n",
    "# YOUR CODE HERE\n",
    "print(f'The current total value of stocks, bonds, and cryptos in the portfolio is ${total_portfolio: .2f}')"
   ]
  },
  {
   "cell_type": "markdown",
   "metadata": {},
   "source": [
    "### Evaluate the Emergency Fund\n",
    "\n",
    "In this section, you’ll use the valuations for the cryptocurrency wallet and for the stock and bond portions of the portfolio to determine if the credit union member has enough savings to build an emergency fund into their financial plan. To do this, complete the following steps:\n",
    "\n",
    "1. Create a Python list named `savings_data` that has two elements. The first element contains the total value of the cryptocurrency wallet. The second element contains the total value of the stock and bond portions of the portfolio.\n",
    "\n",
    "2. Use the `savings_data` list to create a Pandas DataFrame named `savings_df`, and then display this DataFrame. The function to create the DataFrame should take the following three parameters:\n",
    "\n",
    "    - `savings_data`: Use the list that you just created.\n",
    "\n",
    "    - `columns`: Set this parameter equal to a Python list with a single value called `amount`.\n",
    "\n",
    "    - `index`: Set this parameter equal to a Python list with the values of `crypto` and `stock/bond`.\n",
    "\n",
    "3. Use the `savings_df` DataFrame to plot a pie chart that visualizes the composition of the member’s portfolio. The y-axis of the pie chart uses `amount`. Be sure to add a title.\n",
    "\n",
    "4. Using Python, determine if the current portfolio has enough to create an emergency fund as part of the member’s financial plan. Ideally, an emergency fund should equal to three times the member’s monthly income. To do this, implement the following steps:\n",
    "\n",
    "    1. Create a variable named `emergency_fund_value`, and set it equal to three times the value of the member’s `monthly_income` of $12000. (You set this earlier in Part 1).\n",
    "\n",
    "    2. Create a series of three if statements to determine if the member’s total portfolio is large enough to fund the emergency portfolio:\n",
    "\n",
    "        1. If the total portfolio value is greater than the emergency fund value, display a message congratulating the member for having enough money in this fund.\n",
    "\n",
    "        2. Else if the total portfolio value is equal to the emergency fund value, display a message congratulating the member on reaching this important financial goal.\n",
    "\n",
    "        3. Else the total portfolio is less than the emergency fund value, so display a message showing how many dollars away the member is from reaching the goal. (Subtract the total portfolio value from the emergency fund value.)\n"
   ]
  },
  {
   "cell_type": "markdown",
   "metadata": {},
   "source": [
    "#### Step 1: Create a Python list named `savings_data` that has two elements. The first element contains the total value of the cryptocurrency wallet. The second element contains the total value of the stock and bond portions of the portfolio."
   ]
  },
  {
   "cell_type": "code",
   "execution_count": 29,
   "metadata": {},
   "outputs": [
    {
     "data": {
      "text/plain": [
       "[32809.225, 60688.7]"
      ]
     },
     "execution_count": 29,
     "metadata": {},
     "output_type": "execute_result"
    }
   ],
   "source": [
    "# Consolidate financial assets data into a Python list\n",
    "# YOUR CODE HERE\n",
    "savings_data = [total_crypto_wallet,total_stocks_bonds]\n",
    "# Review the Python list savings_data\n",
    "# YOUR CODE HERE\n",
    "savings_data"
   ]
  },
  {
   "cell_type": "markdown",
   "metadata": {},
   "source": [
    "#### Step 2: Use the `savings_data` list to create a Pandas DataFrame named `savings_df`, and then display this DataFrame. The function to create the DataFrame should take the following three parameters:\n",
    "\n",
    "- `savings_data`: Use the list that you just created.\n",
    "\n",
    "- `columns`: Set this parameter equal to a Python list with a single value called `amount`.\n",
    "\n",
    "- `index`: Set this parameter equal to a Python list with the values of `crypto` and `stock/bond`.\n"
   ]
  },
  {
   "cell_type": "code",
   "execution_count": 30,
   "metadata": {},
   "outputs": [
    {
     "data": {
      "text/html": [
       "<div>\n",
       "<style scoped>\n",
       "    .dataframe tbody tr th:only-of-type {\n",
       "        vertical-align: middle;\n",
       "    }\n",
       "\n",
       "    .dataframe tbody tr th {\n",
       "        vertical-align: top;\n",
       "    }\n",
       "\n",
       "    .dataframe thead th {\n",
       "        text-align: right;\n",
       "    }\n",
       "</style>\n",
       "<table border=\"1\" class=\"dataframe\">\n",
       "  <thead>\n",
       "    <tr style=\"text-align: right;\">\n",
       "      <th></th>\n",
       "      <th>amount</th>\n",
       "    </tr>\n",
       "  </thead>\n",
       "  <tbody>\n",
       "    <tr>\n",
       "      <th>crypto</th>\n",
       "      <td>32809.225</td>\n",
       "    </tr>\n",
       "    <tr>\n",
       "      <th>stock/bond</th>\n",
       "      <td>60688.700</td>\n",
       "    </tr>\n",
       "  </tbody>\n",
       "</table>\n",
       "</div>"
      ],
      "text/plain": [
       "               amount\n",
       "crypto      32809.225\n",
       "stock/bond  60688.700"
      ]
     },
     "execution_count": 30,
     "metadata": {},
     "output_type": "execute_result"
    }
   ],
   "source": [
    "# Create a Pandas DataFrame called savings_df \n",
    "# YOUR CODE HERE\n",
    "amount = ['amount']\n",
    "indexes = ['crypto','stock/bond']\n",
    "savings_df = pd.DataFrame(\n",
    "    savings_data,\n",
    "    columns = amount,\n",
    "    index = indexes\n",
    ")\n",
    "# Display the savings_df DataFrame\n",
    "# YOUR CODE HERE\n",
    "savings_df"
   ]
  },
  {
   "cell_type": "markdown",
   "metadata": {},
   "source": [
    "#### Step 3: Use the `savings_df` DataFrame to plot a pie chart that visualizes the composition of the member’s portfolio. The y-axis of the pie chart uses `amount`. Be sure to add a title."
   ]
  },
  {
   "cell_type": "code",
   "execution_count": 36,
   "metadata": {},
   "outputs": [
    {
     "data": {
      "text/plain": [
       "<AxesSubplot:title={'center':'Portfolio Breakdown by broad asset type'}, ylabel='amount'>"
      ]
     },
     "execution_count": 36,
     "metadata": {},
     "output_type": "execute_result"
    },
    {
     "data": {
      "image/png": "[encoded data removed]",
      "text/plain": [
       "<Figure size 360x360 with 1 Axes>"
      ]
     },
     "metadata": {},
     "output_type": "display_data"
    }
   ],
   "source": [
    "# Plot the total value of the member's portfolio (crypto and stock/bond) in a pie chart\n",
    "# YOUR CODE HERE\n",
    "savings_df.plot.pie(y='amount',figsize=(5,5),title='Portfolio Breakdown by broad asset type')"
   ]
  },
  {
   "cell_type": "markdown",
   "metadata": {},
   "source": [
    "#### Step 4: Using Python, determine if the current portfolio has enough to create an emergency fund as part of the member’s financial plan. Ideally, an emergency fund should equal to three times the member’s monthly income. To do this, implement the following steps:\n",
    "\n",
    "Step 1. Create a variable named `emergency_fund_value`, and set it equal to three times the value of the member’s `monthly_income` of 12000. (You set this earlier in Part 1).\n",
    "\n",
    "Step 2. Create a series of three if statements to determine if the member’s total portfolio is large enough to fund the emergency portfolio:\n",
    "\n",
    "* If the total portfolio value is greater than the emergency fund value, display a message congratulating the member for having enough money in this fund.\n",
    "\n",
    "* Else if the total portfolio value is equal to the emergency fund value, display a message congratulating the member on reaching this important financial goal.\n",
    "\n",
    "* Else the total portfolio is less than the emergency fund value, so display a message showing how many dollars away the member is from reaching the goal. (Subtract the total portfolio value from the emergency fund value.)\n"
   ]
  },
  {
   "cell_type": "markdown",
   "metadata": {},
   "source": [
    "##### Step 4-1: Create a variable named `emergency_fund_value`, and set it equal to three times the value of the member’s `monthly_income` of 12000. (You set this earlier in Part 1)."
   ]
  },
  {
   "cell_type": "code",
   "execution_count": 37,
   "metadata": {},
   "outputs": [
    {
     "data": {
      "text/plain": [
       "36000"
      ]
     },
     "execution_count": 37,
     "metadata": {},
     "output_type": "execute_result"
    }
   ],
   "source": [
    "# Create a variable named emergency_fund_value\n",
    "# YOUR CODE HERE\n",
    "emergency_fund_value = monthly_income * 3\n",
    "emergency_fund_value"
   ]
  },
  {
   "cell_type": "markdown",
   "metadata": {},
   "source": [
    "##### Step 4-2: Create a series of three if statements to determine if the member’s total portfolio is large enough to fund the emergency portfolio:\n",
    "\n",
    "* If the total portfolio value is greater than the emergency fund value, display a message congratulating the member for having enough money in this fund.\n",
    "\n",
    "* Else if the total portfolio value is equal to the emergency fund value, display a message congratulating the member on reaching this important financial goal.\n",
    "\n",
    "* Else the total portfolio is less than the emergency fund value, so display a message showing how many dollars away the member is from reaching the goal. (Subtract the total portfolio value from the emergency fund value.)"
   ]
  },
  {
   "cell_type": "code",
   "execution_count": 42,
   "metadata": {},
   "outputs": [
    {
     "name": "stdout",
     "output_type": "stream",
     "text": [
      "There are enough funds. congratulations!\n"
     ]
    }
   ],
   "source": [
    "# Evaluate the possibility of creating an emergency fund with 3 conditions:\n",
    "# YOUR CODE HERE\n",
    "# YOUR CODE HERE\n",
    "# YOUR CODE HERE\n",
    "if total_portfolio > emergency_fund_value:\n",
    "    print(\"There are enough funds. congratulations!\")\n",
    "elif total_portfolio == emergency_fund_value:\n",
    "    print(\"Congrats on reaching your emergency fund goal!\")\n",
    "else:\n",
    "    subs = emergency_fund_value - total_portfolio\n",
    "    print(\"You need more funds!\")"
   ]
  },
  {
   "cell_type": "markdown",
   "metadata": {},
   "source": [
    "## Part 2: Create a Financial Planner for Retirement"
   ]
  },
  {
   "cell_type": "markdown",
   "metadata": {},
   "source": [
    "### Create the Monte Carlo Simulation\n",
    "\n",
    "In this section, you’ll use the MCForecastTools library to create a Monte Carlo simulation for the member’s savings portfolio. To do this, complete the following steps:\n",
    "\n",
    "1. Make an API call via the Alpaca SDK to get 3 years of historical closing prices for a traditional 60/40 portfolio split: 60% stocks (SPY) and 40% bonds (AGG).\n",
    "\n",
    "2. Run a Monte Carlo simulation of 500 samples and 30 years for the 60/40 portfolio, and then plot the results.The following image shows the overlay line plot resulting from a simulation with these characteristics. However, because a random number generator is used to run each live Monte Carlo simulation, your image will differ slightly from this exact image:\n",
    "\n",
    "![A screenshot depicts the resulting plot.](Images/5-4-monte-carlo-line-plot.png)\n",
    "\n",
    "3. Plot the probability distribution of the Monte Carlo simulation. Plot the probability distribution of the Monte Carlo simulation. The following image shows the histogram plot resulting from a simulation with these characteristics. However, because a random number generator is used to run each live Monte Carlo simulation, your image will differ slightly from this exact image:\n",
    "\n",
    "![A screenshot depicts the histogram plot.](Images/5-4-monte-carlo-histogram.png)\n",
    "\n",
    "4. Generate the summary statistics for the Monte Carlo simulation.\n",
    "\n"
   ]
  },
  {
   "cell_type": "markdown",
   "metadata": {},
   "source": [
    "#### Step 1: Make an API call via the Alpaca SDK to get 3 years of historical closing prices for a traditional 60/40 portfolio split: 60% stocks (SPY) and 40% bonds (AGG)."
   ]
  },
  {
   "cell_type": "code",
   "execution_count": 44,
   "metadata": {},
   "outputs": [],
   "source": [
    "# Set start and end dates of 3 years back from your current date\n",
    "# Alternatively, you can use an end date of 2020-08-07 and work 3 years back from that date \n",
    "# YOUR CODE HERE\n",
    "# YOUR CODE HERE\n",
    "start_date = pd.Timestamp('2019-08-30',tz='America/New_york').isoformat()\n",
    "end_date = pd.Timestamp('2022-08-30',tz='America/New_york').isoformat()\n",
    "# Set number of rows to 1000 to retrieve the maximum amount of rows\n",
    "# YOUR CODE HERE\n",
    "timeframe = \"1Day\"\n",
    "rows = 1000"
   ]
  },
  {
   "cell_type": "code",
   "execution_count": 45,
   "metadata": {},
   "outputs": [
    {
     "data": {
      "text/html": [
       "<div>\n",
       "<style scoped>\n",
       "    .dataframe tbody tr th:only-of-type {\n",
       "        vertical-align: middle;\n",
       "    }\n",
       "\n",
       "    .dataframe tbody tr th {\n",
       "        vertical-align: top;\n",
       "    }\n",
       "\n",
       "    .dataframe thead tr th {\n",
       "        text-align: left;\n",
       "    }\n",
       "\n",
       "    .dataframe thead tr:last-of-type th {\n",
       "        text-align: right;\n",
       "    }\n",
       "</style>\n",
       "<table border=\"1\" class=\"dataframe\">\n",
       "  <thead>\n",
       "    <tr>\n",
       "      <th></th>\n",
       "      <th colspan=\"7\" halign=\"left\">SPY</th>\n",
       "      <th colspan=\"7\" halign=\"left\">AGG</th>\n",
       "    </tr>\n",
       "    <tr>\n",
       "      <th></th>\n",
       "      <th>open</th>\n",
       "      <th>high</th>\n",
       "      <th>low</th>\n",
       "      <th>close</th>\n",
       "      <th>volume</th>\n",
       "      <th>trade_count</th>\n",
       "      <th>vwap</th>\n",
       "      <th>open</th>\n",
       "      <th>high</th>\n",
       "      <th>low</th>\n",
       "      <th>close</th>\n",
       "      <th>volume</th>\n",
       "      <th>trade_count</th>\n",
       "      <th>vwap</th>\n",
       "    </tr>\n",
       "    <tr>\n",
       "      <th>timestamp</th>\n",
       "      <th></th>\n",
       "      <th></th>\n",
       "      <th></th>\n",
       "      <th></th>\n",
       "      <th></th>\n",
       "      <th></th>\n",
       "      <th></th>\n",
       "      <th></th>\n",
       "      <th></th>\n",
       "      <th></th>\n",
       "      <th></th>\n",
       "      <th></th>\n",
       "      <th></th>\n",
       "      <th></th>\n",
       "    </tr>\n",
       "  </thead>\n",
       "  <tbody>\n",
       "    <tr>\n",
       "      <th>2019-08-30 04:00:00+00:00</th>\n",
       "      <td>294.21</td>\n",
       "      <td>294.2399</td>\n",
       "      <td>291.420</td>\n",
       "      <td>292.45</td>\n",
       "      <td>63024780.0</td>\n",
       "      <td>303476.0</td>\n",
       "      <td>292.713824</td>\n",
       "      <td>113.90</td>\n",
       "      <td>114.1500</td>\n",
       "      <td>113.890</td>\n",
       "      <td>114.13</td>\n",
       "      <td>4661629</td>\n",
       "      <td>11279</td>\n",
       "      <td>114.025187</td>\n",
       "    </tr>\n",
       "    <tr>\n",
       "      <th>2019-09-03 04:00:00+00:00</th>\n",
       "      <td>290.56</td>\n",
       "      <td>291.5800</td>\n",
       "      <td>289.270</td>\n",
       "      <td>290.74</td>\n",
       "      <td>69233875.0</td>\n",
       "      <td>362212.0</td>\n",
       "      <td>290.492676</td>\n",
       "      <td>113.84</td>\n",
       "      <td>114.1200</td>\n",
       "      <td>113.690</td>\n",
       "      <td>113.84</td>\n",
       "      <td>6197557</td>\n",
       "      <td>24789</td>\n",
       "      <td>113.939811</td>\n",
       "    </tr>\n",
       "    <tr>\n",
       "      <th>2019-09-04 04:00:00+00:00</th>\n",
       "      <td>293.15</td>\n",
       "      <td>294.0550</td>\n",
       "      <td>292.310</td>\n",
       "      <td>294.04</td>\n",
       "      <td>47160461.0</td>\n",
       "      <td>236850.0</td>\n",
       "      <td>293.322384</td>\n",
       "      <td>113.82</td>\n",
       "      <td>114.0801</td>\n",
       "      <td>113.820</td>\n",
       "      <td>114.04</td>\n",
       "      <td>3814413</td>\n",
       "      <td>15256</td>\n",
       "      <td>114.008878</td>\n",
       "    </tr>\n",
       "    <tr>\n",
       "      <th>2019-09-05 04:00:00+00:00</th>\n",
       "      <td>296.78</td>\n",
       "      <td>298.8300</td>\n",
       "      <td>294.001</td>\n",
       "      <td>297.82</td>\n",
       "      <td>83356779.0</td>\n",
       "      <td>377089.0</td>\n",
       "      <td>297.528062</td>\n",
       "      <td>113.61</td>\n",
       "      <td>113.6700</td>\n",
       "      <td>113.300</td>\n",
       "      <td>113.55</td>\n",
       "      <td>5336501</td>\n",
       "      <td>19147</td>\n",
       "      <td>113.455162</td>\n",
       "    </tr>\n",
       "    <tr>\n",
       "      <th>2019-09-06 04:00:00+00:00</th>\n",
       "      <td>298.21</td>\n",
       "      <td>298.7600</td>\n",
       "      <td>297.420</td>\n",
       "      <td>298.05</td>\n",
       "      <td>49676444.0</td>\n",
       "      <td>255431.0</td>\n",
       "      <td>298.223331</td>\n",
       "      <td>113.66</td>\n",
       "      <td>113.7199</td>\n",
       "      <td>113.555</td>\n",
       "      <td>113.67</td>\n",
       "      <td>3675151</td>\n",
       "      <td>12845</td>\n",
       "      <td>113.658735</td>\n",
       "    </tr>\n",
       "  </tbody>\n",
       "</table>\n",
       "</div>"
      ],
      "text/plain": [
       "                              SPY                                         \\\n",
       "                             open      high      low   close      volume   \n",
       "timestamp                                                                  \n",
       "2019-08-30 04:00:00+00:00  294.21  294.2399  291.420  292.45  63024780.0   \n",
       "2019-09-03 04:00:00+00:00  290.56  291.5800  289.270  290.74  69233875.0   \n",
       "2019-09-04 04:00:00+00:00  293.15  294.0550  292.310  294.04  47160461.0   \n",
       "2019-09-05 04:00:00+00:00  296.78  298.8300  294.001  297.82  83356779.0   \n",
       "2019-09-06 04:00:00+00:00  298.21  298.7600  297.420  298.05  49676444.0   \n",
       "\n",
       "                                                      AGG                     \\\n",
       "                          trade_count        vwap    open      high      low   \n",
       "timestamp                                                                      \n",
       "2019-08-30 04:00:00+00:00    303476.0  292.713824  113.90  114.1500  113.890   \n",
       "2019-09-03 04:00:00+00:00    362212.0  290.492676  113.84  114.1200  113.690   \n",
       "2019-09-04 04:00:00+00:00    236850.0  293.322384  113.82  114.0801  113.820   \n",
       "2019-09-05 04:00:00+00:00    377089.0  297.528062  113.61  113.6700  113.300   \n",
       "2019-09-06 04:00:00+00:00    255431.0  298.223331  113.66  113.7199  113.555   \n",
       "\n",
       "                                                                    \n",
       "                            close   volume trade_count        vwap  \n",
       "timestamp                                                           \n",
       "2019-08-30 04:00:00+00:00  114.13  4661629       11279  114.025187  \n",
       "2019-09-03 04:00:00+00:00  113.84  6197557       24789  113.939811  \n",
       "2019-09-04 04:00:00+00:00  114.04  3814413       15256  114.008878  \n",
       "2019-09-05 04:00:00+00:00  113.55  5336501       19147  113.455162  \n",
       "2019-09-06 04:00:00+00:00  113.67  3675151       12845  113.658735  "
      ]
     },
     "metadata": {},
     "output_type": "display_data"
    },
    {
     "data": {
      "text/html": [
       "<div>\n",
       "<style scoped>\n",
       "    .dataframe tbody tr th:only-of-type {\n",
       "        vertical-align: middle;\n",
       "    }\n",
       "\n",
       "    .dataframe tbody tr th {\n",
       "        vertical-align: top;\n",
       "    }\n",
       "\n",
       "    .dataframe thead tr th {\n",
       "        text-align: left;\n",
       "    }\n",
       "\n",
       "    .dataframe thead tr:last-of-type th {\n",
       "        text-align: right;\n",
       "    }\n",
       "</style>\n",
       "<table border=\"1\" class=\"dataframe\">\n",
       "  <thead>\n",
       "    <tr>\n",
       "      <th></th>\n",
       "      <th colspan=\"7\" halign=\"left\">SPY</th>\n",
       "      <th colspan=\"7\" halign=\"left\">AGG</th>\n",
       "    </tr>\n",
       "    <tr>\n",
       "      <th></th>\n",
       "      <th>open</th>\n",
       "      <th>high</th>\n",
       "      <th>low</th>\n",
       "      <th>close</th>\n",
       "      <th>volume</th>\n",
       "      <th>trade_count</th>\n",
       "      <th>vwap</th>\n",
       "      <th>open</th>\n",
       "      <th>high</th>\n",
       "      <th>low</th>\n",
       "      <th>close</th>\n",
       "      <th>volume</th>\n",
       "      <th>trade_count</th>\n",
       "      <th>vwap</th>\n",
       "    </tr>\n",
       "    <tr>\n",
       "      <th>timestamp</th>\n",
       "      <th></th>\n",
       "      <th></th>\n",
       "      <th></th>\n",
       "      <th></th>\n",
       "      <th></th>\n",
       "      <th></th>\n",
       "      <th></th>\n",
       "      <th></th>\n",
       "      <th></th>\n",
       "      <th></th>\n",
       "      <th></th>\n",
       "      <th></th>\n",
       "      <th></th>\n",
       "      <th></th>\n",
       "    </tr>\n",
       "  </thead>\n",
       "  <tbody>\n",
       "    <tr>\n",
       "      <th>2020-08-13 04:00:00+00:00</th>\n",
       "      <td>336.58</td>\n",
       "      <td>338.2514</td>\n",
       "      <td>335.8300</td>\n",
       "      <td>336.83</td>\n",
       "      <td>41816146.0</td>\n",
       "      <td>278288.0</td>\n",
       "      <td>337.208317</td>\n",
       "      <td>118.77</td>\n",
       "      <td>118.78</td>\n",
       "      <td>118.240</td>\n",
       "      <td>118.31</td>\n",
       "      <td>8023792</td>\n",
       "      <td>24610</td>\n",
       "      <td>118.442915</td>\n",
       "    </tr>\n",
       "    <tr>\n",
       "      <th>2020-08-14 04:00:00+00:00</th>\n",
       "      <td>336.43</td>\n",
       "      <td>337.4200</td>\n",
       "      <td>335.6200</td>\n",
       "      <td>336.84</td>\n",
       "      <td>49082893.0</td>\n",
       "      <td>249670.0</td>\n",
       "      <td>336.676436</td>\n",
       "      <td>118.43</td>\n",
       "      <td>118.49</td>\n",
       "      <td>118.200</td>\n",
       "      <td>118.20</td>\n",
       "      <td>4556476</td>\n",
       "      <td>13664</td>\n",
       "      <td>118.339293</td>\n",
       "    </tr>\n",
       "    <tr>\n",
       "      <th>2020-08-17 04:00:00+00:00</th>\n",
       "      <td>337.91</td>\n",
       "      <td>338.3400</td>\n",
       "      <td>336.8517</td>\n",
       "      <td>337.91</td>\n",
       "      <td>35480974.0</td>\n",
       "      <td>195637.0</td>\n",
       "      <td>337.847471</td>\n",
       "      <td>118.38</td>\n",
       "      <td>118.47</td>\n",
       "      <td>118.305</td>\n",
       "      <td>118.36</td>\n",
       "      <td>3947091</td>\n",
       "      <td>12280</td>\n",
       "      <td>118.381575</td>\n",
       "    </tr>\n",
       "    <tr>\n",
       "      <th>2020-08-18 04:00:00+00:00</th>\n",
       "      <td>338.32</td>\n",
       "      <td>339.1000</td>\n",
       "      <td>336.6100</td>\n",
       "      <td>338.64</td>\n",
       "      <td>38729908.0</td>\n",
       "      <td>213168.0</td>\n",
       "      <td>338.322479</td>\n",
       "      <td>118.50</td>\n",
       "      <td>118.60</td>\n",
       "      <td>118.420</td>\n",
       "      <td>118.53</td>\n",
       "      <td>4765813</td>\n",
       "      <td>14791</td>\n",
       "      <td>118.531748</td>\n",
       "    </tr>\n",
       "    <tr>\n",
       "      <th>2020-08-19 04:00:00+00:00</th>\n",
       "      <td>339.11</td>\n",
       "      <td>339.6100</td>\n",
       "      <td>336.6200</td>\n",
       "      <td>337.23</td>\n",
       "      <td>68054355.0</td>\n",
       "      <td>321017.0</td>\n",
       "      <td>338.207759</td>\n",
       "      <td>118.65</td>\n",
       "      <td>118.70</td>\n",
       "      <td>118.340</td>\n",
       "      <td>118.35</td>\n",
       "      <td>4540992</td>\n",
       "      <td>14358</td>\n",
       "      <td>118.517708</td>\n",
       "    </tr>\n",
       "  </tbody>\n",
       "</table>\n",
       "</div>"
      ],
      "text/plain": [
       "                              SPY                                          \\\n",
       "                             open      high       low   close      volume   \n",
       "timestamp                                                                   \n",
       "2020-08-13 04:00:00+00:00  336.58  338.2514  335.8300  336.83  41816146.0   \n",
       "2020-08-14 04:00:00+00:00  336.43  337.4200  335.6200  336.84  49082893.0   \n",
       "2020-08-17 04:00:00+00:00  337.91  338.3400  336.8517  337.91  35480974.0   \n",
       "2020-08-18 04:00:00+00:00  338.32  339.1000  336.6100  338.64  38729908.0   \n",
       "2020-08-19 04:00:00+00:00  339.11  339.6100  336.6200  337.23  68054355.0   \n",
       "\n",
       "                                                      AGG                   \\\n",
       "                          trade_count        vwap    open    high      low   \n",
       "timestamp                                                                    \n",
       "2020-08-13 04:00:00+00:00    278288.0  337.208317  118.77  118.78  118.240   \n",
       "2020-08-14 04:00:00+00:00    249670.0  336.676436  118.43  118.49  118.200   \n",
       "2020-08-17 04:00:00+00:00    195637.0  337.847471  118.38  118.47  118.305   \n",
       "2020-08-18 04:00:00+00:00    213168.0  338.322479  118.50  118.60  118.420   \n",
       "2020-08-19 04:00:00+00:00    321017.0  338.207759  118.65  118.70  118.340   \n",
       "\n",
       "                                                                    \n",
       "                            close   volume trade_count        vwap  \n",
       "timestamp                                                           \n",
       "2020-08-13 04:00:00+00:00  118.31  8023792       24610  118.442915  \n",
       "2020-08-14 04:00:00+00:00  118.20  4556476       13664  118.339293  \n",
       "2020-08-17 04:00:00+00:00  118.36  3947091       12280  118.381575  \n",
       "2020-08-18 04:00:00+00:00  118.53  4765813       14791  118.531748  \n",
       "2020-08-19 04:00:00+00:00  118.35  4540992       14358  118.517708  "
      ]
     },
     "execution_count": 45,
     "metadata": {},
     "output_type": "execute_result"
    }
   ],
   "source": [
    "# Use the Alpaca get_bars function to make the API call to get the 3 years worth of pricing data\n",
    "# The tickers and timeframe parameters should have been set in Part 1 of this activity \n",
    "# The start and end dates should be updated with the information set above\n",
    "# Remember to add the df property to the end of the call so the response is returned as a DataFrame\n",
    "# YOUR CODE HERE\n",
    "three_years_df = alpaca.get_bars(\n",
    "    tickers,\n",
    "    timeframe,\n",
    "    start = start_date,\n",
    "    end = end_date,\n",
    "    limit = rows\n",
    ").df\n",
    "# Reorganize the DataFrame\n",
    "# Separate ticker data\n",
    "# YOUR CODE HERE\n",
    "spy = three_years_df[three_years_df['symbol']=='SPY'].drop('symbol',axis = 1)\n",
    "agg = three_years_df[three_years_df['symbol']=='AGG'].drop('symbol',axis = 1)\n",
    "# Concatenate the ticker DataFrames\n",
    "# YOUR CODE HERE\n",
    "three_years_df = pd.concat([spy,agg],axis=1, keys=['SPY','AGG'])\n",
    "three_years_df.dropna(inplace=True)\n",
    "# Display both the first and last five rows of the DataFrame\n",
    "# YOUR CODE HERE\n",
    "# YOUR CODE HERE\n",
    "display(three_years_df.head())\n",
    "three_years_df.tail()"
   ]
  },
  {
   "cell_type": "markdown",
   "metadata": {},
   "source": [
    "#### Step 2: Run a Monte Carlo simulation of 500 samples and 30 years for the 60/40 portfolio, and then plot the results."
   ]
  },
  {
   "cell_type": "code",
   "execution_count": 46,
   "metadata": {},
   "outputs": [
    {
     "data": {
      "text/plain": [
       "<MCForecastTools.MCSimulation at 0x1de5232dbc8>"
      ]
     },
     "execution_count": 46,
     "metadata": {},
     "output_type": "execute_result"
    }
   ],
   "source": [
    "# Configure the Monte Carlo simulation to forecast 30 years cumulative returns\n",
    "# The weights should be split 40% to AGG and 60% to SPY.\n",
    "# Run 500 samples.\n",
    "# YOUR CODE HERE\n",
    "MC_thirty = MCSimulation(\n",
    "    portfolio_data = three_years_df,\n",
    "    weights = [.60,.40],\n",
    "    num_simulation = 500,\n",
    "    num_trading_days = 252*30\n",
    ")\n",
    "# Review the simulation input data\n",
    "# YOUR CODE HERE\n",
    "MC_thirty"
   ]
  },
  {
   "cell_type": "code",
   "execution_count": 47,
   "metadata": {},
   "outputs": [
    {
     "name": "stdout",
     "output_type": "stream",
     "text": [
      "Running Monte Carlo simulation number 0.\n",
      "Running Monte Carlo simulation number 10.\n",
      "Running Monte Carlo simulation number 20.\n",
      "Running Monte Carlo simulation number 30.\n",
      "Running Monte Carlo simulation number 40.\n",
      "Running Monte Carlo simulation number 50.\n",
      "Running Monte Carlo simulation number 60.\n",
      "Running Monte Carlo simulation number 70.\n",
      "Running Monte Carlo simulation number 80.\n",
      "Running Monte Carlo simulation number 90.\n",
      "Running Monte Carlo simulation number 100.\n"
     ]
    },
    {
     "name": "stderr",
     "output_type": "stream",
     "text": [
      "C:\\Users\\dank\\Desktop\\Berkeley_Bootcamp\\module5\\MCForecastTools.py:117: PerformanceWarning: DataFrame is highly fragmented.  This is usually the result of calling `frame.insert` many times, which has poor performance.  Consider joining all columns at once using pd.concat(axis=1) instead.  To get a de-fragmented frame, use `newframe = frame.copy()`\n",
      "  portfolio_cumulative_returns[n] = (1 + sim_df.fillna(0)).cumprod()\n"
     ]
    },
    {
     "name": "stdout",
     "output_type": "stream",
     "text": [
      "Running Monte Carlo simulation number 110.\n",
      "Running Monte Carlo simulation number 120.\n",
      "Running Monte Carlo simulation number 130.\n",
      "Running Monte Carlo simulation number 140.\n",
      "Running Monte Carlo simulation number 150.\n",
      "Running Monte Carlo simulation number 160.\n",
      "Running Monte Carlo simulation number 170.\n",
      "Running Monte Carlo simulation number 180.\n",
      "Running Monte Carlo simulation number 190.\n",
      "Running Monte Carlo simulation number 200.\n",
      "Running Monte Carlo simulation number 210.\n",
      "Running Monte Carlo simulation number 220.\n",
      "Running Monte Carlo simulation number 230.\n",
      "Running Monte Carlo simulation number 240.\n",
      "Running Monte Carlo simulation number 250.\n",
      "Running Monte Carlo simulation number 260.\n",
      "Running Monte Carlo simulation number 270.\n",
      "Running Monte Carlo simulation number 280.\n",
      "Running Monte Carlo simulation number 290.\n",
      "Running Monte Carlo simulation number 300.\n",
      "Running Monte Carlo simulation number 310.\n",
      "Running Monte Carlo simulation number 320.\n",
      "Running Monte Carlo simulation number 330.\n",
      "Running Monte Carlo simulation number 340.\n",
      "Running Monte Carlo simulation number 350.\n",
      "Running Monte Carlo simulation number 360.\n",
      "Running Monte Carlo simulation number 370.\n",
      "Running Monte Carlo simulation number 380.\n",
      "Running Monte Carlo simulation number 390.\n",
      "Running Monte Carlo simulation number 400.\n",
      "Running Monte Carlo simulation number 410.\n",
      "Running Monte Carlo simulation number 420.\n",
      "Running Monte Carlo simulation number 430.\n",
      "Running Monte Carlo simulation number 440.\n",
      "Running Monte Carlo simulation number 450.\n",
      "Running Monte Carlo simulation number 460.\n",
      "Running Monte Carlo simulation number 470.\n",
      "Running Monte Carlo simulation number 480.\n",
      "Running Monte Carlo simulation number 490.\n"
     ]
    },
    {
     "data": {
      "text/html": [
       "<div>\n",
       "<style scoped>\n",
       "    .dataframe tbody tr th:only-of-type {\n",
       "        vertical-align: middle;\n",
       "    }\n",
       "\n",
       "    .dataframe tbody tr th {\n",
       "        vertical-align: top;\n",
       "    }\n",
       "\n",
       "    .dataframe thead th {\n",
       "        text-align: right;\n",
       "    }\n",
       "</style>\n",
       "<table border=\"1\" class=\"dataframe\">\n",
       "  <thead>\n",
       "    <tr style=\"text-align: right;\">\n",
       "      <th></th>\n",
       "      <th>0</th>\n",
       "      <th>1</th>\n",
       "      <th>2</th>\n",
       "      <th>3</th>\n",
       "      <th>4</th>\n",
       "      <th>5</th>\n",
       "      <th>6</th>\n",
       "      <th>7</th>\n",
       "      <th>8</th>\n",
       "      <th>9</th>\n",
       "      <th>...</th>\n",
       "      <th>490</th>\n",
       "      <th>491</th>\n",
       "      <th>492</th>\n",
       "      <th>493</th>\n",
       "      <th>494</th>\n",
       "      <th>495</th>\n",
       "      <th>496</th>\n",
       "      <th>497</th>\n",
       "      <th>498</th>\n",
       "      <th>499</th>\n",
       "    </tr>\n",
       "  </thead>\n",
       "  <tbody>\n",
       "    <tr>\n",
       "      <th>0</th>\n",
       "      <td>1.000000</td>\n",
       "      <td>1.000000</td>\n",
       "      <td>1.000000</td>\n",
       "      <td>1.000000</td>\n",
       "      <td>1.000000</td>\n",
       "      <td>1.000000</td>\n",
       "      <td>1.000000</td>\n",
       "      <td>1.000000</td>\n",
       "      <td>1.000000</td>\n",
       "      <td>1.000000</td>\n",
       "      <td>...</td>\n",
       "      <td>1.000000</td>\n",
       "      <td>1.000000</td>\n",
       "      <td>1.000000</td>\n",
       "      <td>1.000000</td>\n",
       "      <td>1.000000</td>\n",
       "      <td>1.000000</td>\n",
       "      <td>1.000000</td>\n",
       "      <td>1.000000</td>\n",
       "      <td>1.000000</td>\n",
       "      <td>1.000000</td>\n",
       "    </tr>\n",
       "    <tr>\n",
       "      <th>1</th>\n",
       "      <td>0.968823</td>\n",
       "      <td>0.976613</td>\n",
       "      <td>0.994836</td>\n",
       "      <td>0.999306</td>\n",
       "      <td>0.996320</td>\n",
       "      <td>1.011537</td>\n",
       "      <td>1.005331</td>\n",
       "      <td>1.003234</td>\n",
       "      <td>0.990180</td>\n",
       "      <td>1.015743</td>\n",
       "      <td>...</td>\n",
       "      <td>1.001300</td>\n",
       "      <td>1.000379</td>\n",
       "      <td>1.022894</td>\n",
       "      <td>0.980569</td>\n",
       "      <td>0.994087</td>\n",
       "      <td>1.003630</td>\n",
       "      <td>1.028776</td>\n",
       "      <td>0.993329</td>\n",
       "      <td>1.005539</td>\n",
       "      <td>0.995638</td>\n",
       "    </tr>\n",
       "    <tr>\n",
       "      <th>2</th>\n",
       "      <td>0.979345</td>\n",
       "      <td>0.981054</td>\n",
       "      <td>0.992934</td>\n",
       "      <td>1.005693</td>\n",
       "      <td>1.020327</td>\n",
       "      <td>1.028791</td>\n",
       "      <td>1.002836</td>\n",
       "      <td>0.989932</td>\n",
       "      <td>0.972612</td>\n",
       "      <td>1.027450</td>\n",
       "      <td>...</td>\n",
       "      <td>0.987656</td>\n",
       "      <td>1.003418</td>\n",
       "      <td>0.995910</td>\n",
       "      <td>0.989756</td>\n",
       "      <td>1.000337</td>\n",
       "      <td>1.027950</td>\n",
       "      <td>1.015754</td>\n",
       "      <td>1.000489</td>\n",
       "      <td>1.018395</td>\n",
       "      <td>1.008422</td>\n",
       "    </tr>\n",
       "    <tr>\n",
       "      <th>3</th>\n",
       "      <td>0.974257</td>\n",
       "      <td>0.986016</td>\n",
       "      <td>0.990985</td>\n",
       "      <td>0.988867</td>\n",
       "      <td>1.009603</td>\n",
       "      <td>1.037051</td>\n",
       "      <td>1.015962</td>\n",
       "      <td>0.978422</td>\n",
       "      <td>0.978472</td>\n",
       "      <td>1.023551</td>\n",
       "      <td>...</td>\n",
       "      <td>0.982688</td>\n",
       "      <td>1.005105</td>\n",
       "      <td>0.979512</td>\n",
       "      <td>0.993420</td>\n",
       "      <td>1.019782</td>\n",
       "      <td>1.042304</td>\n",
       "      <td>1.022340</td>\n",
       "      <td>1.003754</td>\n",
       "      <td>1.021262</td>\n",
       "      <td>1.018549</td>\n",
       "    </tr>\n",
       "    <tr>\n",
       "      <th>4</th>\n",
       "      <td>0.975347</td>\n",
       "      <td>0.992976</td>\n",
       "      <td>0.989023</td>\n",
       "      <td>0.989869</td>\n",
       "      <td>1.014059</td>\n",
       "      <td>1.034235</td>\n",
       "      <td>1.013811</td>\n",
       "      <td>0.976168</td>\n",
       "      <td>0.974200</td>\n",
       "      <td>1.022988</td>\n",
       "      <td>...</td>\n",
       "      <td>0.964596</td>\n",
       "      <td>1.006888</td>\n",
       "      <td>0.979117</td>\n",
       "      <td>0.980455</td>\n",
       "      <td>1.013919</td>\n",
       "      <td>1.029457</td>\n",
       "      <td>1.029328</td>\n",
       "      <td>1.005469</td>\n",
       "      <td>1.008606</td>\n",
       "      <td>1.013600</td>\n",
       "    </tr>\n",
       "    <tr>\n",
       "      <th>...</th>\n",
       "      <td>...</td>\n",
       "      <td>...</td>\n",
       "      <td>...</td>\n",
       "      <td>...</td>\n",
       "      <td>...</td>\n",
       "      <td>...</td>\n",
       "      <td>...</td>\n",
       "      <td>...</td>\n",
       "      <td>...</td>\n",
       "      <td>...</td>\n",
       "      <td>...</td>\n",
       "      <td>...</td>\n",
       "      <td>...</td>\n",
       "      <td>...</td>\n",
       "      <td>...</td>\n",
       "      <td>...</td>\n",
       "      <td>...</td>\n",
       "      <td>...</td>\n",
       "      <td>...</td>\n",
       "      <td>...</td>\n",
       "      <td>...</td>\n",
       "    </tr>\n",
       "    <tr>\n",
       "      <th>7556</th>\n",
       "      <td>64.817829</td>\n",
       "      <td>68.427470</td>\n",
       "      <td>22.182834</td>\n",
       "      <td>158.705978</td>\n",
       "      <td>15.709225</td>\n",
       "      <td>208.753679</td>\n",
       "      <td>25.812128</td>\n",
       "      <td>127.358871</td>\n",
       "      <td>58.362135</td>\n",
       "      <td>27.210807</td>\n",
       "      <td>...</td>\n",
       "      <td>24.378260</td>\n",
       "      <td>31.298701</td>\n",
       "      <td>29.218640</td>\n",
       "      <td>269.430947</td>\n",
       "      <td>13.869162</td>\n",
       "      <td>10.455807</td>\n",
       "      <td>15.055612</td>\n",
       "      <td>11.910583</td>\n",
       "      <td>24.919453</td>\n",
       "      <td>5.045669</td>\n",
       "    </tr>\n",
       "    <tr>\n",
       "      <th>7557</th>\n",
       "      <td>63.624718</td>\n",
       "      <td>68.587823</td>\n",
       "      <td>22.471592</td>\n",
       "      <td>161.573287</td>\n",
       "      <td>15.613125</td>\n",
       "      <td>206.532568</td>\n",
       "      <td>25.965120</td>\n",
       "      <td>127.894921</td>\n",
       "      <td>59.490820</td>\n",
       "      <td>27.692233</td>\n",
       "      <td>...</td>\n",
       "      <td>24.495726</td>\n",
       "      <td>31.749989</td>\n",
       "      <td>29.238279</td>\n",
       "      <td>269.293687</td>\n",
       "      <td>14.081452</td>\n",
       "      <td>10.690092</td>\n",
       "      <td>15.232348</td>\n",
       "      <td>11.946982</td>\n",
       "      <td>24.567891</td>\n",
       "      <td>5.120053</td>\n",
       "    </tr>\n",
       "    <tr>\n",
       "      <th>7558</th>\n",
       "      <td>62.280187</td>\n",
       "      <td>68.993092</td>\n",
       "      <td>23.050876</td>\n",
       "      <td>160.880382</td>\n",
       "      <td>15.476682</td>\n",
       "      <td>206.930075</td>\n",
       "      <td>25.765051</td>\n",
       "      <td>127.605707</td>\n",
       "      <td>59.243932</td>\n",
       "      <td>27.506579</td>\n",
       "      <td>...</td>\n",
       "      <td>24.388883</td>\n",
       "      <td>31.267445</td>\n",
       "      <td>28.577946</td>\n",
       "      <td>266.431519</td>\n",
       "      <td>14.224503</td>\n",
       "      <td>10.475484</td>\n",
       "      <td>15.675605</td>\n",
       "      <td>11.847451</td>\n",
       "      <td>24.289014</td>\n",
       "      <td>5.241006</td>\n",
       "    </tr>\n",
       "    <tr>\n",
       "      <th>7559</th>\n",
       "      <td>61.115025</td>\n",
       "      <td>68.204571</td>\n",
       "      <td>23.097039</td>\n",
       "      <td>158.164827</td>\n",
       "      <td>15.363058</td>\n",
       "      <td>206.761933</td>\n",
       "      <td>25.178284</td>\n",
       "      <td>124.586495</td>\n",
       "      <td>59.663435</td>\n",
       "      <td>27.155297</td>\n",
       "      <td>...</td>\n",
       "      <td>24.229631</td>\n",
       "      <td>30.706285</td>\n",
       "      <td>27.750341</td>\n",
       "      <td>266.383571</td>\n",
       "      <td>14.212956</td>\n",
       "      <td>10.654669</td>\n",
       "      <td>15.557115</td>\n",
       "      <td>11.928849</td>\n",
       "      <td>24.364932</td>\n",
       "      <td>5.259118</td>\n",
       "    </tr>\n",
       "    <tr>\n",
       "      <th>7560</th>\n",
       "      <td>61.562206</td>\n",
       "      <td>68.555951</td>\n",
       "      <td>23.088805</td>\n",
       "      <td>158.054636</td>\n",
       "      <td>15.381119</td>\n",
       "      <td>207.048172</td>\n",
       "      <td>25.297308</td>\n",
       "      <td>125.862416</td>\n",
       "      <td>59.531514</td>\n",
       "      <td>27.104613</td>\n",
       "      <td>...</td>\n",
       "      <td>23.897496</td>\n",
       "      <td>31.847427</td>\n",
       "      <td>27.734573</td>\n",
       "      <td>263.122167</td>\n",
       "      <td>14.274683</td>\n",
       "      <td>10.850846</td>\n",
       "      <td>15.175281</td>\n",
       "      <td>12.159483</td>\n",
       "      <td>24.672883</td>\n",
       "      <td>5.331276</td>\n",
       "    </tr>\n",
       "  </tbody>\n",
       "</table>\n",
       "<p>7561 rows × 500 columns</p>\n",
       "</div>"
      ],
      "text/plain": [
       "            0          1          2           3          4           5    \\\n",
       "0      1.000000   1.000000   1.000000    1.000000   1.000000    1.000000   \n",
       "1      0.968823   0.976613   0.994836    0.999306   0.996320    1.011537   \n",
       "2      0.979345   0.981054   0.992934    1.005693   1.020327    1.028791   \n",
       "3      0.974257   0.986016   0.990985    0.988867   1.009603    1.037051   \n",
       "4      0.975347   0.992976   0.989023    0.989869   1.014059    1.034235   \n",
       "...         ...        ...        ...         ...        ...         ...   \n",
       "7556  64.817829  68.427470  22.182834  158.705978  15.709225  208.753679   \n",
       "7557  63.624718  68.587823  22.471592  161.573287  15.613125  206.532568   \n",
       "7558  62.280187  68.993092  23.050876  160.880382  15.476682  206.930075   \n",
       "7559  61.115025  68.204571  23.097039  158.164827  15.363058  206.761933   \n",
       "7560  61.562206  68.555951  23.088805  158.054636  15.381119  207.048172   \n",
       "\n",
       "            6           7          8          9    ...        490        491  \\\n",
       "0      1.000000    1.000000   1.000000   1.000000  ...   1.000000   1.000000   \n",
       "1      1.005331    1.003234   0.990180   1.015743  ...   1.001300   1.000379   \n",
       "2      1.002836    0.989932   0.972612   1.027450  ...   0.987656   1.003418   \n",
       "3      1.015962    0.978422   0.978472   1.023551  ...   0.982688   1.005105   \n",
       "4      1.013811    0.976168   0.974200   1.022988  ...   0.964596   1.006888   \n",
       "...         ...         ...        ...        ...  ...        ...        ...   \n",
       "7556  25.812128  127.358871  58.362135  27.210807  ...  24.378260  31.298701   \n",
       "7557  25.965120  127.894921  59.490820  27.692233  ...  24.495726  31.749989   \n",
       "7558  25.765051  127.605707  59.243932  27.506579  ...  24.388883  31.267445   \n",
       "7559  25.178284  124.586495  59.663435  27.155297  ...  24.229631  30.706285   \n",
       "7560  25.297308  125.862416  59.531514  27.104613  ...  23.897496  31.847427   \n",
       "\n",
       "            492         493        494        495        496        497  \\\n",
       "0      1.000000    1.000000   1.000000   1.000000   1.000000   1.000000   \n",
       "1      1.022894    0.980569   0.994087   1.003630   1.028776   0.993329   \n",
       "2      0.995910    0.989756   1.000337   1.027950   1.015754   1.000489   \n",
       "3      0.979512    0.993420   1.019782   1.042304   1.022340   1.003754   \n",
       "4      0.979117    0.980455   1.013919   1.029457   1.029328   1.005469   \n",
       "...         ...         ...        ...        ...        ...        ...   \n",
       "7556  29.218640  269.430947  13.869162  10.455807  15.055612  11.910583   \n",
       "7557  29.238279  269.293687  14.081452  10.690092  15.232348  11.946982   \n",
       "7558  28.577946  266.431519  14.224503  10.475484  15.675605  11.847451   \n",
       "7559  27.750341  266.383571  14.212956  10.654669  15.557115  11.928849   \n",
       "7560  27.734573  263.122167  14.274683  10.850846  15.175281  12.159483   \n",
       "\n",
       "            498       499  \n",
       "0      1.000000  1.000000  \n",
       "1      1.005539  0.995638  \n",
       "2      1.018395  1.008422  \n",
       "3      1.021262  1.018549  \n",
       "4      1.008606  1.013600  \n",
       "...         ...       ...  \n",
       "7556  24.919453  5.045669  \n",
       "7557  24.567891  5.120053  \n",
       "7558  24.289014  5.241006  \n",
       "7559  24.364932  5.259118  \n",
       "7560  24.672883  5.331276  \n",
       "\n",
       "[7561 rows x 500 columns]"
      ]
     },
     "execution_count": 47,
     "metadata": {},
     "output_type": "execute_result"
    }
   ],
   "source": [
    "# Run the Monte Carlo simulation to forecast 30 years cumulative returns\n",
    "# YOUR CODE HERE\n",
    "MC_thirty.calc_cumulative_return()"
   ]
  },
  {
   "cell_type": "code",
   "execution_count": 48,
   "metadata": {},
   "outputs": [
    {
     "data": {
      "text/plain": [
       "<AxesSubplot:title={'center':'500 Simulations of Cumulative Portfolio Return Trajectories Over the Next 7560 Trading Days.'}>"
      ]
     },
     "execution_count": 48,
     "metadata": {},
     "output_type": "execute_result"
    },
    {
     "data": {
      "image/png": "[encoded data removed]",
      "text/plain": [
       "<Figure size 432x288 with 1 Axes>"
      ]
     },
     "metadata": {
      "needs_background": "light"
     },
     "output_type": "display_data"
    }
   ],
   "source": [
    "# Visualize the 30-year Monte Carlo simulation by creating an\n",
    "# overlay line plot\n",
    "# YOUR CODE HERE\n",
    "MC_thirty.plot_simulation()\n"
   ]
  },
  {
   "cell_type": "markdown",
   "metadata": {},
   "source": [
    "#### Step 3: Plot the probability distribution of the Monte Carlo simulation."
   ]
  },
  {
   "cell_type": "code",
   "execution_count": 50,
   "metadata": {},
   "outputs": [
    {
     "data": {
      "text/plain": [
       "<AxesSubplot:title={'center':'Distribution of Final Cumuluative Returns Across All 500 Simulations'}, ylabel='Frequency'>"
      ]
     },
     "execution_count": 50,
     "metadata": {},
     "output_type": "execute_result"
    },
    {
     "data": {
      "image/png": "[encoded data removed]",
      "text/plain": [
       "<Figure size 432x288 with 1 Axes>"
      ]
     },
     "metadata": {
      "needs_background": "light"
     },
     "output_type": "display_data"
    }
   ],
   "source": [
    "# Visualize the probability distribution of the 30-year Monte Carlo simulation \n",
    "# by plotting a histogram\n",
    "# YOUR CODE HERE\n",
    "MC_thirty.plot_distribution()"
   ]
  },
  {
   "cell_type": "markdown",
   "metadata": {},
   "source": [
    "#### Step 4: Generate the summary statistics for the Monte Carlo simulation."
   ]
  },
  {
   "cell_type": "code",
   "execution_count": 53,
   "metadata": {},
   "outputs": [
    {
     "data": {
      "text/plain": [
       "count            500.000000\n",
       "mean              62.950819\n",
       "std              111.369320\n",
       "min                2.052824\n",
       "25%               15.217171\n",
       "50%               31.899898\n",
       "75%               69.941975\n",
       "max             1613.937721\n",
       "95% CI Lower       5.310461\n",
       "95% CI Upper     286.605305\n",
       "Name: 7560, dtype: float64"
      ]
     },
     "execution_count": 53,
     "metadata": {},
     "output_type": "execute_result"
    }
   ],
   "source": [
    "# Generate summary statistics from the 30-year Monte Carlo simulation results\n",
    "# Save the results as a variable\n",
    "# YOUR CODE HERE\n",
    "MC_summary_thirty = MC_thirty.summarize_cumulative_return()\n",
    "\n",
    "# Review the 30-year Monte Carlo summary statistics\n",
    "# YOUR CODE HERE\n",
    "MC_summary_thirty"
   ]
  },
  {
   "cell_type": "markdown",
   "metadata": {},
   "source": [
    "### Analyze the Retirement Portfolio Forecasts\n",
    "\n",
    "Using the current value of only the stock and bond portion of the member's portfolio and the summary statistics that you generated from the Monte Carlo simulation, answer the following question in your Jupyter notebook:\n",
    "\n",
    "-  What are the lower and upper bounds for the expected value of the portfolio with a 95% confidence interval?\n"
   ]
  },
  {
   "cell_type": "code",
   "execution_count": 54,
   "metadata": {},
   "outputs": [
    {
     "name": "stdout",
     "output_type": "stream",
     "text": [
      "The current balance of stocks and bonds in the portfolio is $ 60688.70\n"
     ]
    }
   ],
   "source": [
    "# Print the current balance of the stock and bond portion of the members portfolio\n",
    "# YOUR CODE HERE\n",
    "print(f'The current balance of stocks and bonds in the portfolio is ${total_stocks_bonds: .02f}')"
   ]
  },
  {
   "cell_type": "code",
   "execution_count": 55,
   "metadata": {},
   "outputs": [
    {
     "name": "stdout",
     "output_type": "stream",
     "text": [
      "The lower confidence interval with 95% confidence leads to a stock & bond value of $ 322284.97\n",
      "The upper confidence interval with 95% confidence leads to a stock & bond value of $ 17393703.37\n"
     ]
    }
   ],
   "source": [
    "# Use the lower and upper `95%` confidence intervals to calculate the range of the possible outcomes for the current stock/bond portfolio\n",
    "# YOUR CODE HERE\n",
    "# YOUR CODE HERE\n",
    "ci_lower_thirty_cumulative_return = total_stocks_bonds * MC_summary_thirty[8]\n",
    "ci_upper_thirty_cumulative_return = total_stocks_bonds * MC_summary_thirty[9]\n",
    "# Print the result of your calculations\n",
    "# YOUR CODE HERE\n",
    "print(f'The lower confidence interval with 95% confidence leads to a stock & bond value of ${ci_lower_thirty_cumulative_return: .02f}')\n",
    "print(f'The upper confidence interval with 95% confidence leads to a stock & bond value of ${ci_upper_thirty_cumulative_return: .02f}')"
   ]
  },
  {
   "cell_type": "markdown",
   "metadata": {},
   "source": [
    "### Forecast Cumulative Returns in 10 Years\n",
    "\n",
    "The CTO of the credit union is impressed with your work on these planning tools but wonders if 30 years is a long time to wait until retirement. So, your next task is to adjust the retirement portfolio and run a new Monte Carlo simulation to find out if the changes will allow members to retire earlier.\n",
    "\n",
    "For this new Monte Carlo simulation, do the following: \n",
    "\n",
    "- Forecast the cumulative returns for 10 years from now. Because of the shortened investment horizon (30 years to 10 years), the portfolio needs to invest more heavily in the riskier asset&mdash;that is, stock&mdash;to help accumulate wealth for retirement. \n",
    "\n",
    "- Adjust the weights of the retirement portfolio so that the composition for the Monte Carlo simulation consists of 20% bonds and 80% stocks. \n",
    "\n",
    "- Run the simulation over 500 samples, and use the same data that the API call to Alpaca generated.\n",
    "\n",
    "- Based on the new Monte Carlo simulation, answer the following questions in your Jupyter notebook:\n",
    "\n",
    "    - Using the current value of only the stock and bond portion of the member's portfolio and the summary statistics that you generated from the new Monte Carlo simulation, what are the lower and upper bounds for the expected value of the portfolio (with the new weights) with a 95% confidence interval?\n",
    "\n",
    "    - Will weighting the portfolio more heavily toward stocks allow the credit union members to retire after only 10 years?\n"
   ]
  },
  {
   "cell_type": "code",
   "execution_count": 56,
   "metadata": {},
   "outputs": [
    {
     "data": {
      "text/plain": [
       "<MCForecastTools.MCSimulation at 0x1de5a0410c8>"
      ]
     },
     "execution_count": 56,
     "metadata": {},
     "output_type": "execute_result"
    }
   ],
   "source": [
    "# Configure a Monte Carlo simulation to forecast 10 years cumulative returns\n",
    "# The weights should be split 20% to AGG and 80% to SPY.\n",
    "# Run 500 samples.\n",
    "# YOUR CODE HERE\n",
    "MC_ten = MCSimulation(\n",
    "    portfolio_data = three_years_df,\n",
    "    weights = [.8,.2],\n",
    "    num_simulation = 500,\n",
    "    num_trading_days = 252*10\n",
    ")\n",
    "# Review the simulation input data\n",
    "# YOUR CODE HERE\n",
    "MC_ten"
   ]
  },
  {
   "cell_type": "code",
   "execution_count": 57,
   "metadata": {},
   "outputs": [
    {
     "name": "stdout",
     "output_type": "stream",
     "text": [
      "Running Monte Carlo simulation number 0.\n",
      "Running Monte Carlo simulation number 10.\n",
      "Running Monte Carlo simulation number 20.\n",
      "Running Monte Carlo simulation number 30.\n",
      "Running Monte Carlo simulation number 40.\n",
      "Running Monte Carlo simulation number 50.\n",
      "Running Monte Carlo simulation number 60.\n",
      "Running Monte Carlo simulation number 70.\n",
      "Running Monte Carlo simulation number 80.\n",
      "Running Monte Carlo simulation number 90.\n",
      "Running Monte Carlo simulation number 100.\n"
     ]
    },
    {
     "name": "stderr",
     "output_type": "stream",
     "text": [
      "C:\\Users\\dank\\Desktop\\Berkeley_Bootcamp\\module5\\MCForecastTools.py:117: PerformanceWarning: DataFrame is highly fragmented.  This is usually the result of calling `frame.insert` many times, which has poor performance.  Consider joining all columns at once using pd.concat(axis=1) instead.  To get a de-fragmented frame, use `newframe = frame.copy()`\n",
      "  portfolio_cumulative_returns[n] = (1 + sim_df.fillna(0)).cumprod()\n"
     ]
    },
    {
     "name": "stdout",
     "output_type": "stream",
     "text": [
      "Running Monte Carlo simulation number 110.\n",
      "Running Monte Carlo simulation number 120.\n",
      "Running Monte Carlo simulation number 130.\n",
      "Running Monte Carlo simulation number 140.\n",
      "Running Monte Carlo simulation number 150.\n",
      "Running Monte Carlo simulation number 160.\n",
      "Running Monte Carlo simulation number 170.\n",
      "Running Monte Carlo simulation number 180.\n",
      "Running Monte Carlo simulation number 190.\n",
      "Running Monte Carlo simulation number 200.\n",
      "Running Monte Carlo simulation number 210.\n",
      "Running Monte Carlo simulation number 220.\n",
      "Running Monte Carlo simulation number 230.\n",
      "Running Monte Carlo simulation number 240.\n",
      "Running Monte Carlo simulation number 250.\n",
      "Running Monte Carlo simulation number 260.\n",
      "Running Monte Carlo simulation number 270.\n",
      "Running Monte Carlo simulation number 280.\n",
      "Running Monte Carlo simulation number 290.\n",
      "Running Monte Carlo simulation number 300.\n",
      "Running Monte Carlo simulation number 310.\n",
      "Running Monte Carlo simulation number 320.\n",
      "Running Monte Carlo simulation number 330.\n",
      "Running Monte Carlo simulation number 340.\n",
      "Running Monte Carlo simulation number 350.\n",
      "Running Monte Carlo simulation number 360.\n",
      "Running Monte Carlo simulation number 370.\n",
      "Running Monte Carlo simulation number 380.\n",
      "Running Monte Carlo simulation number 390.\n",
      "Running Monte Carlo simulation number 400.\n",
      "Running Monte Carlo simulation number 410.\n",
      "Running Monte Carlo simulation number 420.\n",
      "Running Monte Carlo simulation number 430.\n",
      "Running Monte Carlo simulation number 440.\n",
      "Running Monte Carlo simulation number 450.\n",
      "Running Monte Carlo simulation number 460.\n",
      "Running Monte Carlo simulation number 470.\n",
      "Running Monte Carlo simulation number 480.\n",
      "Running Monte Carlo simulation number 490.\n"
     ]
    },
    {
     "data": {
      "text/html": [
       "<div>\n",
       "<style scoped>\n",
       "    .dataframe tbody tr th:only-of-type {\n",
       "        vertical-align: middle;\n",
       "    }\n",
       "\n",
       "    .dataframe tbody tr th {\n",
       "        vertical-align: top;\n",
       "    }\n",
       "\n",
       "    .dataframe thead th {\n",
       "        text-align: right;\n",
       "    }\n",
       "</style>\n",
       "<table border=\"1\" class=\"dataframe\">\n",
       "  <thead>\n",
       "    <tr style=\"text-align: right;\">\n",
       "      <th></th>\n",
       "      <th>0</th>\n",
       "      <th>1</th>\n",
       "      <th>2</th>\n",
       "      <th>3</th>\n",
       "      <th>4</th>\n",
       "      <th>5</th>\n",
       "      <th>6</th>\n",
       "      <th>7</th>\n",
       "      <th>8</th>\n",
       "      <th>9</th>\n",
       "      <th>...</th>\n",
       "      <th>490</th>\n",
       "      <th>491</th>\n",
       "      <th>492</th>\n",
       "      <th>493</th>\n",
       "      <th>494</th>\n",
       "      <th>495</th>\n",
       "      <th>496</th>\n",
       "      <th>497</th>\n",
       "      <th>498</th>\n",
       "      <th>499</th>\n",
       "    </tr>\n",
       "  </thead>\n",
       "  <tbody>\n",
       "    <tr>\n",
       "      <th>0</th>\n",
       "      <td>1.000000</td>\n",
       "      <td>1.000000</td>\n",
       "      <td>1.000000</td>\n",
       "      <td>1.000000</td>\n",
       "      <td>1.000000</td>\n",
       "      <td>1.000000</td>\n",
       "      <td>1.000000</td>\n",
       "      <td>1.000000</td>\n",
       "      <td>1.000000</td>\n",
       "      <td>1.000000</td>\n",
       "      <td>...</td>\n",
       "      <td>1.000000</td>\n",
       "      <td>1.000000</td>\n",
       "      <td>1.000000</td>\n",
       "      <td>1.000000</td>\n",
       "      <td>1.000000</td>\n",
       "      <td>1.000000</td>\n",
       "      <td>1.000000</td>\n",
       "      <td>1.000000</td>\n",
       "      <td>1.000000</td>\n",
       "      <td>1.000000</td>\n",
       "    </tr>\n",
       "    <tr>\n",
       "      <th>1</th>\n",
       "      <td>1.013496</td>\n",
       "      <td>1.005847</td>\n",
       "      <td>1.024580</td>\n",
       "      <td>0.985890</td>\n",
       "      <td>0.989333</td>\n",
       "      <td>1.014517</td>\n",
       "      <td>0.984612</td>\n",
       "      <td>1.008877</td>\n",
       "      <td>1.012272</td>\n",
       "      <td>1.011684</td>\n",
       "      <td>...</td>\n",
       "      <td>1.023562</td>\n",
       "      <td>1.022282</td>\n",
       "      <td>0.955039</td>\n",
       "      <td>1.000043</td>\n",
       "      <td>0.990054</td>\n",
       "      <td>0.983024</td>\n",
       "      <td>1.022083</td>\n",
       "      <td>0.997232</td>\n",
       "      <td>0.997537</td>\n",
       "      <td>1.003372</td>\n",
       "    </tr>\n",
       "    <tr>\n",
       "      <th>2</th>\n",
       "      <td>1.029792</td>\n",
       "      <td>1.012720</td>\n",
       "      <td>0.994381</td>\n",
       "      <td>0.984965</td>\n",
       "      <td>0.987191</td>\n",
       "      <td>1.048359</td>\n",
       "      <td>1.005953</td>\n",
       "      <td>0.999254</td>\n",
       "      <td>1.011395</td>\n",
       "      <td>0.993139</td>\n",
       "      <td>...</td>\n",
       "      <td>1.000207</td>\n",
       "      <td>1.029561</td>\n",
       "      <td>0.970373</td>\n",
       "      <td>0.990761</td>\n",
       "      <td>0.994230</td>\n",
       "      <td>0.979669</td>\n",
       "      <td>1.003042</td>\n",
       "      <td>0.985848</td>\n",
       "      <td>0.977344</td>\n",
       "      <td>1.010396</td>\n",
       "    </tr>\n",
       "    <tr>\n",
       "      <th>3</th>\n",
       "      <td>1.066502</td>\n",
       "      <td>1.009154</td>\n",
       "      <td>0.992707</td>\n",
       "      <td>0.986331</td>\n",
       "      <td>0.968956</td>\n",
       "      <td>1.066368</td>\n",
       "      <td>1.005782</td>\n",
       "      <td>1.008106</td>\n",
       "      <td>1.044297</td>\n",
       "      <td>0.966595</td>\n",
       "      <td>...</td>\n",
       "      <td>1.001797</td>\n",
       "      <td>1.044508</td>\n",
       "      <td>0.947223</td>\n",
       "      <td>1.007775</td>\n",
       "      <td>0.978390</td>\n",
       "      <td>0.990247</td>\n",
       "      <td>1.009998</td>\n",
       "      <td>0.979375</td>\n",
       "      <td>0.976161</td>\n",
       "      <td>1.038295</td>\n",
       "    </tr>\n",
       "    <tr>\n",
       "      <th>4</th>\n",
       "      <td>1.050411</td>\n",
       "      <td>1.014262</td>\n",
       "      <td>0.978194</td>\n",
       "      <td>0.954282</td>\n",
       "      <td>0.955415</td>\n",
       "      <td>1.025043</td>\n",
       "      <td>0.988902</td>\n",
       "      <td>1.018871</td>\n",
       "      <td>1.053814</td>\n",
       "      <td>0.969471</td>\n",
       "      <td>...</td>\n",
       "      <td>1.018323</td>\n",
       "      <td>1.041711</td>\n",
       "      <td>0.950032</td>\n",
       "      <td>1.017179</td>\n",
       "      <td>0.990231</td>\n",
       "      <td>0.974262</td>\n",
       "      <td>1.006749</td>\n",
       "      <td>0.968899</td>\n",
       "      <td>1.006628</td>\n",
       "      <td>1.030708</td>\n",
       "    </tr>\n",
       "    <tr>\n",
       "      <th>...</th>\n",
       "      <td>...</td>\n",
       "      <td>...</td>\n",
       "      <td>...</td>\n",
       "      <td>...</td>\n",
       "      <td>...</td>\n",
       "      <td>...</td>\n",
       "      <td>...</td>\n",
       "      <td>...</td>\n",
       "      <td>...</td>\n",
       "      <td>...</td>\n",
       "      <td>...</td>\n",
       "      <td>...</td>\n",
       "      <td>...</td>\n",
       "      <td>...</td>\n",
       "      <td>...</td>\n",
       "      <td>...</td>\n",
       "      <td>...</td>\n",
       "      <td>...</td>\n",
       "      <td>...</td>\n",
       "      <td>...</td>\n",
       "      <td>...</td>\n",
       "    </tr>\n",
       "    <tr>\n",
       "      <th>2516</th>\n",
       "      <td>2.579211</td>\n",
       "      <td>2.296415</td>\n",
       "      <td>21.534563</td>\n",
       "      <td>3.049208</td>\n",
       "      <td>0.946253</td>\n",
       "      <td>3.083224</td>\n",
       "      <td>5.895426</td>\n",
       "      <td>2.062791</td>\n",
       "      <td>10.191980</td>\n",
       "      <td>2.669109</td>\n",
       "      <td>...</td>\n",
       "      <td>2.842254</td>\n",
       "      <td>4.641598</td>\n",
       "      <td>9.454511</td>\n",
       "      <td>16.142278</td>\n",
       "      <td>3.986427</td>\n",
       "      <td>1.330501</td>\n",
       "      <td>1.573142</td>\n",
       "      <td>7.458961</td>\n",
       "      <td>4.106674</td>\n",
       "      <td>5.742901</td>\n",
       "    </tr>\n",
       "    <tr>\n",
       "      <th>2517</th>\n",
       "      <td>2.566932</td>\n",
       "      <td>2.284784</td>\n",
       "      <td>21.515110</td>\n",
       "      <td>2.969124</td>\n",
       "      <td>0.952458</td>\n",
       "      <td>3.127638</td>\n",
       "      <td>5.909184</td>\n",
       "      <td>2.055114</td>\n",
       "      <td>10.174541</td>\n",
       "      <td>2.653871</td>\n",
       "      <td>...</td>\n",
       "      <td>2.860430</td>\n",
       "      <td>4.578843</td>\n",
       "      <td>9.386437</td>\n",
       "      <td>15.730496</td>\n",
       "      <td>4.015045</td>\n",
       "      <td>1.321185</td>\n",
       "      <td>1.539998</td>\n",
       "      <td>7.426615</td>\n",
       "      <td>4.130879</td>\n",
       "      <td>5.789623</td>\n",
       "    </tr>\n",
       "    <tr>\n",
       "      <th>2518</th>\n",
       "      <td>2.551158</td>\n",
       "      <td>2.288085</td>\n",
       "      <td>21.178249</td>\n",
       "      <td>3.008340</td>\n",
       "      <td>0.953250</td>\n",
       "      <td>3.209068</td>\n",
       "      <td>5.915109</td>\n",
       "      <td>2.079873</td>\n",
       "      <td>9.887420</td>\n",
       "      <td>2.719377</td>\n",
       "      <td>...</td>\n",
       "      <td>2.842835</td>\n",
       "      <td>4.656135</td>\n",
       "      <td>9.453435</td>\n",
       "      <td>15.352955</td>\n",
       "      <td>4.017080</td>\n",
       "      <td>1.314963</td>\n",
       "      <td>1.559416</td>\n",
       "      <td>7.400074</td>\n",
       "      <td>4.260575</td>\n",
       "      <td>5.716360</td>\n",
       "    </tr>\n",
       "    <tr>\n",
       "      <th>2519</th>\n",
       "      <td>2.626335</td>\n",
       "      <td>2.264397</td>\n",
       "      <td>21.493059</td>\n",
       "      <td>2.988358</td>\n",
       "      <td>0.941569</td>\n",
       "      <td>3.225036</td>\n",
       "      <td>5.983447</td>\n",
       "      <td>2.054789</td>\n",
       "      <td>9.829687</td>\n",
       "      <td>2.714074</td>\n",
       "      <td>...</td>\n",
       "      <td>2.884507</td>\n",
       "      <td>4.541020</td>\n",
       "      <td>9.398064</td>\n",
       "      <td>15.591039</td>\n",
       "      <td>4.077696</td>\n",
       "      <td>1.306067</td>\n",
       "      <td>1.548445</td>\n",
       "      <td>7.518113</td>\n",
       "      <td>4.230711</td>\n",
       "      <td>5.850490</td>\n",
       "    </tr>\n",
       "    <tr>\n",
       "      <th>2520</th>\n",
       "      <td>2.561991</td>\n",
       "      <td>2.299021</td>\n",
       "      <td>21.662116</td>\n",
       "      <td>2.969846</td>\n",
       "      <td>0.941905</td>\n",
       "      <td>3.205455</td>\n",
       "      <td>6.204205</td>\n",
       "      <td>2.059559</td>\n",
       "      <td>9.903667</td>\n",
       "      <td>2.683609</td>\n",
       "      <td>...</td>\n",
       "      <td>3.008833</td>\n",
       "      <td>4.517580</td>\n",
       "      <td>9.501922</td>\n",
       "      <td>15.672387</td>\n",
       "      <td>4.020182</td>\n",
       "      <td>1.343313</td>\n",
       "      <td>1.576057</td>\n",
       "      <td>7.478524</td>\n",
       "      <td>4.207701</td>\n",
       "      <td>5.881665</td>\n",
       "    </tr>\n",
       "  </tbody>\n",
       "</table>\n",
       "<p>2521 rows × 500 columns</p>\n",
       "</div>"
      ],
      "text/plain": [
       "           0         1          2         3         4         5         6    \\\n",
       "0     1.000000  1.000000   1.000000  1.000000  1.000000  1.000000  1.000000   \n",
       "1     1.013496  1.005847   1.024580  0.985890  0.989333  1.014517  0.984612   \n",
       "2     1.029792  1.012720   0.994381  0.984965  0.987191  1.048359  1.005953   \n",
       "3     1.066502  1.009154   0.992707  0.986331  0.968956  1.066368  1.005782   \n",
       "4     1.050411  1.014262   0.978194  0.954282  0.955415  1.025043  0.988902   \n",
       "...        ...       ...        ...       ...       ...       ...       ...   \n",
       "2516  2.579211  2.296415  21.534563  3.049208  0.946253  3.083224  5.895426   \n",
       "2517  2.566932  2.284784  21.515110  2.969124  0.952458  3.127638  5.909184   \n",
       "2518  2.551158  2.288085  21.178249  3.008340  0.953250  3.209068  5.915109   \n",
       "2519  2.626335  2.264397  21.493059  2.988358  0.941569  3.225036  5.983447   \n",
       "2520  2.561991  2.299021  21.662116  2.969846  0.941905  3.205455  6.204205   \n",
       "\n",
       "           7          8         9    ...       490       491       492  \\\n",
       "0     1.000000   1.000000  1.000000  ...  1.000000  1.000000  1.000000   \n",
       "1     1.008877   1.012272  1.011684  ...  1.023562  1.022282  0.955039   \n",
       "2     0.999254   1.011395  0.993139  ...  1.000207  1.029561  0.970373   \n",
       "3     1.008106   1.044297  0.966595  ...  1.001797  1.044508  0.947223   \n",
       "4     1.018871   1.053814  0.969471  ...  1.018323  1.041711  0.950032   \n",
       "...        ...        ...       ...  ...       ...       ...       ...   \n",
       "2516  2.062791  10.191980  2.669109  ...  2.842254  4.641598  9.454511   \n",
       "2517  2.055114  10.174541  2.653871  ...  2.860430  4.578843  9.386437   \n",
       "2518  2.079873   9.887420  2.719377  ...  2.842835  4.656135  9.453435   \n",
       "2519  2.054789   9.829687  2.714074  ...  2.884507  4.541020  9.398064   \n",
       "2520  2.059559   9.903667  2.683609  ...  3.008833  4.517580  9.501922   \n",
       "\n",
       "            493       494       495       496       497       498       499  \n",
       "0      1.000000  1.000000  1.000000  1.000000  1.000000  1.000000  1.000000  \n",
       "1      1.000043  0.990054  0.983024  1.022083  0.997232  0.997537  1.003372  \n",
       "2      0.990761  0.994230  0.979669  1.003042  0.985848  0.977344  1.010396  \n",
       "3      1.007775  0.978390  0.990247  1.009998  0.979375  0.976161  1.038295  \n",
       "4      1.017179  0.990231  0.974262  1.006749  0.968899  1.006628  1.030708  \n",
       "...         ...       ...       ...       ...       ...       ...       ...  \n",
       "2516  16.142278  3.986427  1.330501  1.573142  7.458961  4.106674  5.742901  \n",
       "2517  15.730496  4.015045  1.321185  1.539998  7.426615  4.130879  5.789623  \n",
       "2518  15.352955  4.017080  1.314963  1.559416  7.400074  4.260575  5.716360  \n",
       "2519  15.591039  4.077696  1.306067  1.548445  7.518113  4.230711  5.850490  \n",
       "2520  15.672387  4.020182  1.343313  1.576057  7.478524  4.207701  5.881665  \n",
       "\n",
       "[2521 rows x 500 columns]"
      ]
     },
     "execution_count": 57,
     "metadata": {},
     "output_type": "execute_result"
    }
   ],
   "source": [
    "# Run the Monte Carlo simulation to forecast 10 years cumulative returns\n",
    "# YOUR CODE HERE\n",
    "MC_ten.calc_cumulative_return()"
   ]
  },
  {
   "cell_type": "code",
   "execution_count": 58,
   "metadata": {},
   "outputs": [
    {
     "data": {
      "text/plain": [
       "<AxesSubplot:title={'center':'500 Simulations of Cumulative Portfolio Return Trajectories Over the Next 2520 Trading Days.'}>"
      ]
     },
     "execution_count": 58,
     "metadata": {},
     "output_type": "execute_result"
    },
    {
     "data": {
      "image/png": "[encoded data removed]",
      "text/plain": [
       "<Figure size 432x288 with 1 Axes>"
      ]
     },
     "metadata": {
      "needs_background": "light"
     },
     "output_type": "display_data"
    }
   ],
   "source": [
    "# Visualize the 10-year Monte Carlo simulation by creating an\n",
    "# overlay line plot\n",
    "# YOUR CODE HERE\n",
    "MC_ten.plot_simulation() "
   ]
  },
  {
   "cell_type": "code",
   "execution_count": 59,
   "metadata": {},
   "outputs": [
    {
     "data": {
      "text/plain": [
       "<AxesSubplot:title={'center':'Distribution of Final Cumuluative Returns Across All 500 Simulations'}, ylabel='Frequency'>"
      ]
     },
     "execution_count": 59,
     "metadata": {},
     "output_type": "execute_result"
    },
    {
     "data": {
      "image/png": "[encoded data removed]",
      "text/plain": [
       "<Figure size 432x288 with 1 Axes>"
      ]
     },
     "metadata": {
      "needs_background": "light"
     },
     "output_type": "display_data"
    }
   ],
   "source": [
    "# Visualize the probability distribution of the 10-year Monte Carlo simulation \n",
    "# by plotting a histogram\n",
    "# YOUR CODE HERE\n",
    "MC_ten.plot_distribution()"
   ]
  },
  {
   "cell_type": "code",
   "execution_count": 60,
   "metadata": {},
   "outputs": [
    {
     "data": {
      "text/plain": [
       "count           500.000000\n",
       "mean              5.786153\n",
       "std               5.476939\n",
       "min               0.347529\n",
       "25%               2.297472\n",
       "50%               4.109541\n",
       "75%               7.276681\n",
       "max              42.268373\n",
       "95% CI Lower      0.745350\n",
       "95% CI Upper     21.833442\n",
       "Name: 2520, dtype: float64"
      ]
     },
     "execution_count": 60,
     "metadata": {},
     "output_type": "execute_result"
    }
   ],
   "source": [
    "# Generate summary statistics from the 10-year Monte Carlo simulation results\n",
    "# Save the results as a variable\n",
    "# YOUR CODE HERE\n",
    "MC_ten_summary = MC_ten.summarize_cumulative_return()\n",
    "# Review the 10-year Monte Carlo summary statistics\n",
    "# YOUR CODE HERE\n",
    "MC_ten_summary"
   ]
  },
  {
   "cell_type": "markdown",
   "metadata": {},
   "source": [
    "### Answer the following questions:"
   ]
  },
  {
   "cell_type": "markdown",
   "metadata": {},
   "source": [
    "#### Question: Using the current value of only the stock and bond portion of the member's portfolio and the summary statistics that you generated from the new Monte Carlo simulation, what are the lower and upper bounds for the expected value of the portfolio (with the new weights) with a 95% confidence interval?"
   ]
  },
  {
   "cell_type": "code",
   "execution_count": 61,
   "metadata": {},
   "outputs": [
    {
     "name": "stdout",
     "output_type": "stream",
     "text": [
      "The current balance of stocks and bonds in the portfolio is $ 60688.70\n"
     ]
    }
   ],
   "source": [
    "# Print the current balance of the stock and bond portion of the members portfolio\n",
    "# YOUR CODE HERE\n",
    "print(f'The current balance of stocks and bonds in the portfolio is ${total_stocks_bonds: .02f}')"
   ]
  },
  {
   "cell_type": "code",
   "execution_count": 63,
   "metadata": {},
   "outputs": [
    {
     "name": "stdout",
     "output_type": "stream",
     "text": [
      "The lower confidence interval with 95% confidence leads to a stock & bond value of $ 45234.34\n",
      "The upper confidence interval with 95% confidence leads to a stock & bond value of $ 1325043.23\n"
     ]
    }
   ],
   "source": [
    "# Use the lower and upper `95%` confidence intervals to calculate the range of the possible outcomes for the current stock/bond portfolio\n",
    "# YOUR CODE HERE\n",
    "# YOUR CODE HERE\n",
    "ci_lower_ten_cumulative_return = total_stocks_bonds * MC_ten_summary[8]\n",
    "ci_upper_ten_cumulative_return = total_stocks_bonds * MC_ten_summary[9]\n",
    "# Print the result of your calculations\n",
    "# YOUR CODE HERE\n",
    "print(f'The lower confidence interval with 95% confidence leads to a stock & bond value of ${ci_lower_ten_cumulative_return: .02f}')\n",
    "print(f'The upper confidence interval with 95% confidence leads to a stock & bond value of ${ci_upper_ten_cumulative_return: .02f}')"
   ]
  },
  {
   "cell_type": "markdown",
   "metadata": {},
   "source": [
    "#### Question: Will weighting the portfolio more heavily to stocks allow the credit union members to retire after only 10 years?"
   ]
  },
  {
   "cell_type": "raw",
   "metadata": {},
   "source": [
    "**Answer** # YOUR ANSWER HERE"
   ]
  },
  {
   "cell_type": "code",
   "execution_count": null,
   "metadata": {},
   "outputs": [],
   "source": [
    "There are certain portolio weights which do outperform others so I would believe that they should."
   ]
  }
 ],
 "metadata": {
  "kernelspec": {
   "display_name": "Python 3 (ipykernel)",
   "language": "python",
   "name": "python3"
  },
  "language_info": {
   "codemirror_mode": {
    "name": "ipython",
    "version": 3
   },
   "file_extension": ".py",
   "mimetype": "text/x-python",
   "name": "python",
   "nbconvert_exporter": "python",
   "pygments_lexer": "ipython3",
   "version": "3.7.11"
  }
 },
 "nbformat": 4,
 "nbformat_minor": 4
}
